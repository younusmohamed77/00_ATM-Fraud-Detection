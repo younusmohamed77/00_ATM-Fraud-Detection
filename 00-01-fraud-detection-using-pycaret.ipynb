{
 "cells": [
  {
   "cell_type": "code",
   "execution_count": 1,
   "id": "0708b596",
   "metadata": {
    "execution": {
     "iopub.execute_input": "2025-02-15T18:55:39.334617Z",
     "iopub.status.busy": "2025-02-15T18:55:39.334252Z",
     "iopub.status.idle": "2025-02-15T18:55:39.341113Z",
     "shell.execute_reply": "2025-02-15T18:55:39.339631Z"
    },
    "papermill": {
     "duration": 0.044603,
     "end_time": "2025-02-15T18:55:39.343001",
     "exception": false,
     "start_time": "2025-02-15T18:55:39.298398",
     "status": "completed"
    },
    "tags": []
   },
   "outputs": [
    {
     "name": "stdout",
     "output_type": "stream",
     "text": [
      "This library is not compatible with Kaggle notebook, you try to download and run them in Colab\n"
     ]
    }
   ],
   "source": [
    "print(\"This library is not compatible with Kaggle notebook, you try to download and run them in Colab\")"
   ]
  },
  {
   "cell_type": "markdown",
   "id": "8249e31f",
   "metadata": {
    "id": "Az_Ccp5pl4GB",
    "papermill": {
     "duration": 0.029924,
     "end_time": "2025-02-15T18:55:39.404542",
     "exception": false,
     "start_time": "2025-02-15T18:55:39.374618",
     "status": "completed"
    },
    "tags": []
   },
   "source": [
    "## Problem Statement:\n",
    "\n",
    "The challenging part of the problem is that the data contains very few fraud instances in comparison to the overall population. To give more edge to the solution they have also collected data regarding location [geo_scores] of the transactions, their own proprietary index [Lambda_wts], on network turn around times [Qset_tats] and vulnerability qualification score [instance_scores]. As of now you don't need to understand what they mean.\n",
    "Training data contains masked variables pertaining to each transaction id . Your prediction target here is 'Target' .\n",
    "\n",
    "1: Fraudulent transactions\n",
    "\n",
    "\n",
    "0: Clean transactions\n"
   ]
  },
  {
   "cell_type": "code",
   "execution_count": 2,
   "id": "f3f5c0c4",
   "metadata": {
    "execution": {
     "iopub.execute_input": "2025-02-15T18:55:39.467407Z",
     "iopub.status.busy": "2025-02-15T18:55:39.466881Z",
     "iopub.status.idle": "2025-02-15T18:55:51.528876Z",
     "shell.execute_reply": "2025-02-15T18:55:51.527272Z"
    },
    "id": "OvyHdLmUl4GI",
    "papermill": {
     "duration": 12.095816,
     "end_time": "2025-02-15T18:55:51.530595",
     "exception": true,
     "start_time": "2025-02-15T18:55:39.434779",
     "status": "failed"
    },
    "tags": []
   },
   "outputs": [
    {
     "ename": "ModuleNotFoundError",
     "evalue": "No module named 'pycaret'",
     "output_type": "error",
     "traceback": [
      "\u001b[0;31m---------------------------------------------------------------------------\u001b[0m",
      "\u001b[0;31mModuleNotFoundError\u001b[0m                       Traceback (most recent call last)",
      "\u001b[0;32m<ipython-input-2-7bf66733fd6b>\u001b[0m in \u001b[0;36m<cell line: 17>\u001b[0;34m()\u001b[0m\n\u001b[1;32m     15\u001b[0m \u001b[0;32mfrom\u001b[0m \u001b[0mnumba\u001b[0m \u001b[0;32mimport\u001b[0m \u001b[0mjit\u001b[0m\u001b[0;34m,\u001b[0m \u001b[0mcuda\u001b[0m\u001b[0;34m\u001b[0m\u001b[0;34m\u001b[0m\u001b[0m\n\u001b[1;32m     16\u001b[0m \u001b[0;32mfrom\u001b[0m \u001b[0mpandas_profiling\u001b[0m \u001b[0;32mimport\u001b[0m \u001b[0mProfileReport\u001b[0m\u001b[0;34m\u001b[0m\u001b[0;34m\u001b[0m\u001b[0m\n\u001b[0;32m---> 17\u001b[0;31m \u001b[0;32mfrom\u001b[0m \u001b[0mpycaret\u001b[0m\u001b[0;34m.\u001b[0m\u001b[0mclassification\u001b[0m \u001b[0;32mimport\u001b[0m \u001b[0;34m*\u001b[0m\u001b[0;34m\u001b[0m\u001b[0;34m\u001b[0m\u001b[0m\n\u001b[0m\u001b[1;32m     18\u001b[0m \u001b[0;32mfrom\u001b[0m \u001b[0msklearn\u001b[0m\u001b[0;34m.\u001b[0m\u001b[0mmodel_selection\u001b[0m \u001b[0;32mimport\u001b[0m \u001b[0mtrain_test_split\u001b[0m\u001b[0;34m\u001b[0m\u001b[0;34m\u001b[0m\u001b[0m\n\u001b[1;32m     19\u001b[0m \u001b[0;32mfrom\u001b[0m \u001b[0msklearn\u001b[0m\u001b[0;34m.\u001b[0m\u001b[0mpreprocessing\u001b[0m \u001b[0;32mimport\u001b[0m \u001b[0mStandardScaler\u001b[0m\u001b[0;34m\u001b[0m\u001b[0;34m\u001b[0m\u001b[0m\n",
      "\u001b[0;31mModuleNotFoundError\u001b[0m: No module named 'pycaret'"
     ]
    }
   ],
   "source": [
    "# !pip install pandas_profiling\n",
    "# !pip install pycaret\n",
    "\n",
    "import warnings\n",
    "warnings.filterwarnings('ignore')\n",
    "\n",
    "import matplotlib.pyplot as plt\n",
    "import numpy as np\n",
    "import os\n",
    "import pandas as pd\n",
    "import seaborn as sns\n",
    "import statsmodels.api as sm\n",
    "\n",
    "from imblearn.over_sampling import RandomOverSampler\n",
    "from numba import jit, cuda\n",
    "from pandas_profiling import ProfileReport\n",
    "from pycaret.classification import *\n",
    "from sklearn.model_selection import train_test_split\n",
    "from sklearn.preprocessing import StandardScaler\n",
    "from statsmodels.formula.api import ols\n",
    "\n",
    "sns.set()\n",
    "%matplotlib inline"
   ]
  },
  {
   "cell_type": "code",
   "execution_count": null,
   "id": "aab1c581",
   "metadata": {
    "id": "hGn-FWAQl4GM",
    "outputId": "dab1bc99-5b25-404d-f940-855ae6825802",
    "papermill": {
     "duration": null,
     "end_time": null,
     "exception": null,
     "start_time": null,
     "status": "pending"
    },
    "tags": []
   },
   "outputs": [],
   "source": [
    "#Reading all the given files as dataframes\n",
    "\n",
    "location_df = pd.read_csv('/Geo_scores.csv')\n",
    "location_df.head()"
   ]
  },
  {
   "cell_type": "code",
   "execution_count": null,
   "id": "a5bd0272",
   "metadata": {
    "id": "l9DjB5AUl4GP",
    "outputId": "91c77adf-575e-4a40-9866-749026497d6c",
    "papermill": {
     "duration": null,
     "end_time": null,
     "exception": null,
     "start_time": null,
     "status": "pending"
    },
    "tags": []
   },
   "outputs": [],
   "source": [
    "propindex_df = pd.read_csv('/Lambda_wts.csv')\n",
    "propindex_df.head()"
   ]
  },
  {
   "cell_type": "code",
   "execution_count": null,
   "id": "33758f4c",
   "metadata": {
    "id": "WhwgOggyl4GQ",
    "outputId": "33f6121f-bf8d-4c75-d780-2c0f16617cde",
    "papermill": {
     "duration": null,
     "end_time": null,
     "exception": null,
     "start_time": null,
     "status": "pending"
    },
    "tags": []
   },
   "outputs": [],
   "source": [
    "nettat_df = pd.read_csv('/Qset_tats.csv')\n",
    "nettat_df.head()"
   ]
  },
  {
   "cell_type": "code",
   "execution_count": null,
   "id": "5914fd48",
   "metadata": {
    "id": "jr-JANk4l4GS",
    "outputId": "8a771c66-ea82-48dc-87f6-cefddf11dc55",
    "papermill": {
     "duration": null,
     "end_time": null,
     "exception": null,
     "start_time": null,
     "status": "pending"
    },
    "tags": []
   },
   "outputs": [],
   "source": [
    "vqs_df = pd.read_csv('/instance_scores.csv')\n",
    "vqs_df.head()"
   ]
  },
  {
   "cell_type": "code",
   "execution_count": null,
   "id": "c7448cd5",
   "metadata": {
    "id": "TfUivM1Ll4GT",
    "outputId": "06a3b709-2160-4854-99a2-4d6c8b01fccd",
    "papermill": {
     "duration": null,
     "end_time": null,
     "exception": null,
     "start_time": null,
     "status": "pending"
    },
    "scrolled": true,
    "tags": []
   },
   "outputs": [],
   "source": [
    "# Reading the training file\n",
    "\n",
    "dataset_df = pd.read_csv('/train.csv')\n",
    "dataset_df.head()"
   ]
  },
  {
   "cell_type": "code",
   "execution_count": null,
   "id": "c4a5b5e7",
   "metadata": {
    "id": "cUbOAUWTl4GU",
    "outputId": "b5f43a4a-0b85-4ccb-fc43-44215c55975e",
    "papermill": {
     "duration": null,
     "end_time": null,
     "exception": null,
     "start_time": null,
     "status": "pending"
    },
    "tags": []
   },
   "outputs": [],
   "source": [
    "# Reading the testing file\n",
    "\n",
    "test_df = pd.read_csv('/test_share.csv')\n",
    "test_df.head()"
   ]
  },
  {
   "cell_type": "markdown",
   "id": "7dbb61bd",
   "metadata": {
    "id": "k2bZaY2Bhhcm",
    "papermill": {
     "duration": null,
     "end_time": null,
     "exception": null,
     "start_time": null,
     "status": "pending"
    },
    "tags": []
   },
   "source": [
    "### Observing that the data in additional csv files are not present in test dataset. Not combining them with the train dataset."
   ]
  },
  {
   "cell_type": "code",
   "execution_count": null,
   "id": "d5fed608",
   "metadata": {
    "id": "XgII_deal4GV",
    "outputId": "e1e3bbd7-4a83-42b6-bd6e-078087833003",
    "papermill": {
     "duration": null,
     "end_time": null,
     "exception": null,
     "start_time": null,
     "status": "pending"
    },
    "tags": []
   },
   "outputs": [],
   "source": [
    "# Checking for missing values in the traning dataset\n",
    "\n",
    "dataset_df.info()"
   ]
  },
  {
   "cell_type": "code",
   "execution_count": null,
   "id": "2cbca32d",
   "metadata": {
    "id": "KVMK5YdIl4GW",
    "outputId": "c7b2bd78-a0d1-4c98-8a89-e201fab857e8",
    "papermill": {
     "duration": null,
     "end_time": null,
     "exception": null,
     "start_time": null,
     "status": "pending"
    },
    "tags": []
   },
   "outputs": [],
   "source": [
    "# Checking for missing values in the traning dataset\n",
    "\n",
    "test_df.info()"
   ]
  },
  {
   "cell_type": "markdown",
   "id": "ea4c17c4",
   "metadata": {
    "id": "nQ7RMDMCl4GX",
    "papermill": {
     "duration": null,
     "end_time": null,
     "exception": null,
     "start_time": null,
     "status": "pending"
    },
    "tags": []
   },
   "source": [
    "#### There are no missing values in training and test datasets"
   ]
  },
  {
   "cell_type": "code",
   "execution_count": null,
   "id": "f8a70b57",
   "metadata": {
    "id": "67S8b1ydl4GY",
    "outputId": "9389e0fe-6d66-4a2e-d675-9b4aa8c68351",
    "papermill": {
     "duration": null,
     "end_time": null,
     "exception": null,
     "start_time": null,
     "status": "pending"
    },
    "tags": []
   },
   "outputs": [],
   "source": [
    "# Checking for duplicated rows in training dataset\n",
    "\n",
    "dataset_df.duplicated().sum()"
   ]
  },
  {
   "cell_type": "code",
   "execution_count": null,
   "id": "45bdc6ca",
   "metadata": {
    "id": "eaD0Dgy3l4GZ",
    "outputId": "7b2cd992-7f49-4607-fe55-3c811fb1ce8e",
    "papermill": {
     "duration": null,
     "end_time": null,
     "exception": null,
     "start_time": null,
     "status": "pending"
    },
    "tags": []
   },
   "outputs": [],
   "source": [
    "# Checking for duplicated rows in test dataset\n",
    "\n",
    "test_df.duplicated().sum()"
   ]
  },
  {
   "cell_type": "markdown",
   "id": "64c0f75a",
   "metadata": {
    "id": "uHsXAoVKl4Gb",
    "papermill": {
     "duration": null,
     "end_time": null,
     "exception": null,
     "start_time": null,
     "status": "pending"
    },
    "tags": []
   },
   "source": [
    "#### There are no duplicate entries in training and test datasets"
   ]
  },
  {
   "cell_type": "code",
   "execution_count": null,
   "id": "3ba0aa25",
   "metadata": {
    "id": "VLKhmNEml4Gb",
    "papermill": {
     "duration": null,
     "end_time": null,
     "exception": null,
     "start_time": null,
     "status": "pending"
    },
    "tags": []
   },
   "outputs": [],
   "source": [
    "# Spliting data into train and test\n",
    "\n",
    "train_df, validation_df = train_test_split(dataset_df, train_size = 0.7, random_state = 1, stratify = dataset_df['Target'])"
   ]
  },
  {
   "cell_type": "code",
   "execution_count": null,
   "id": "86361d5c",
   "metadata": {
    "id": "WgYugGXIl4Gc",
    "outputId": "70be21de-bb33-42c0-9e83-e2bec9bf7139",
    "papermill": {
     "duration": null,
     "end_time": null,
     "exception": null,
     "start_time": null,
     "status": "pending"
    },
    "tags": []
   },
   "outputs": [],
   "source": [
    "train_df.head()"
   ]
  },
  {
   "cell_type": "code",
   "execution_count": null,
   "id": "77682adf",
   "metadata": {
    "id": "XdohD4QSl4Gd",
    "outputId": "eb0cf305-6128-4c1a-cec1-eac107e5902b",
    "papermill": {
     "duration": null,
     "end_time": null,
     "exception": null,
     "start_time": null,
     "status": "pending"
    },
    "tags": []
   },
   "outputs": [],
   "source": [
    "train_df.shape"
   ]
  },
  {
   "cell_type": "code",
   "execution_count": null,
   "id": "c472ea62",
   "metadata": {
    "id": "uFfA19pFl4Gd",
    "outputId": "6d377bc1-b87e-493e-ee54-1611963153d8",
    "papermill": {
     "duration": null,
     "end_time": null,
     "exception": null,
     "start_time": null,
     "status": "pending"
    },
    "tags": []
   },
   "outputs": [],
   "source": [
    "validation_df.shape"
   ]
  },
  {
   "cell_type": "markdown",
   "id": "48004370",
   "metadata": {
    "id": "T4uo4F4Zl4Gf",
    "papermill": {
     "duration": null,
     "end_time": null,
     "exception": null,
     "start_time": null,
     "status": "pending"
    },
    "tags": []
   },
   "source": [
    "## EDA"
   ]
  },
  {
   "cell_type": "code",
   "execution_count": null,
   "id": "721a2f73",
   "metadata": {
    "id": "xyOXitBwl4Gf",
    "papermill": {
     "duration": null,
     "end_time": null,
     "exception": null,
     "start_time": null,
     "status": "pending"
    },
    "tags": []
   },
   "outputs": [],
   "source": [
    "# Visualising the data\n",
    "# Since we plot all data takes long time to process and since there in imbalance not able to visualise clearly\n",
    "\n",
    "@jit(target_backend='gpu')\n",
    "def viz1():\n",
    "    numeric_cols = train_df.select_dtypes(include=np.number)\n",
    "    column_names = list(numeric_cols.columns)\n",
    "    columns_index = 0\n",
    "\n",
    "    plot_rows = 11\n",
    "    plot_cols = 3\n",
    "\n",
    "    fig, ax = plt.subplots(nrows=plot_rows, ncols=plot_cols, figsize=(20, 20))\n",
    "\n",
    "    for row_count in range(plot_rows):\n",
    "        for col_count in range(plot_cols):\n",
    "            ax[row_count][col_count].scatter(x=train_df.index, y=train_df[column_names[columns_index]],\n",
    "                                             c=np.array(['b', 'y'])[train_df['Class']])\n",
    "            ax[row_count][col_count].set_ylabel(column_names[columns_index])\n",
    "            columns_index += 1\n",
    "\n",
    "    plt.tight_layout()\n",
    "    plt.show()\n"
   ]
  },
  {
   "cell_type": "code",
   "execution_count": null,
   "id": "0224560c",
   "metadata": {
    "id": "OHNqXezPqGfS",
    "outputId": "ee979b68-2271-4606-adf4-7af9ecdbc3b1",
    "papermill": {
     "duration": null,
     "end_time": null,
     "exception": null,
     "start_time": null,
     "status": "pending"
    },
    "tags": []
   },
   "outputs": [],
   "source": [
    "viz1()"
   ]
  },
  {
   "cell_type": "code",
   "execution_count": null,
   "id": "5b654659",
   "metadata": {
    "id": "mPqOAj4Al4Gg",
    "outputId": "e3adcc06-47bb-40a7-ef4e-6621430eea34",
    "papermill": {
     "duration": null,
     "end_time": null,
     "exception": null,
     "start_time": null,
     "status": "pending"
    },
    "tags": []
   },
   "outputs": [],
   "source": [
    "# Visualising the data\n",
    "# Visualising a sample of data to clearly distinguish to see significant variables\n",
    "\n",
    "numeric_cols = train_df.select_dtypes(include = np.number)\n",
    "\n",
    "genuine_trans = numeric_cols.loc[numeric_cols['Target'] == 0, :]\n",
    "fraud_trans = numeric_cols.loc[numeric_cols['Target'] == 1, :]\n",
    "\n",
    "genuine_trans_sub = genuine_trans.sample(n=1000, replace = False)\n",
    "\n",
    "new_df = pd.concat([fraud_trans, genuine_trans_sub], axis = 0)\n",
    "new_df = new_df.sample(frac = 1)\n",
    "new_df.reset_index(drop = True, inplace = True)\n",
    "\n",
    "column_names = list(numeric_cols.columns)\n",
    "columns_index = 0\n",
    "\n",
    "plot_rows = 9\n",
    "plot_cols = 3\n",
    "\n",
    "fig, ax = plt.subplots(nrows = plot_rows, ncols = plot_cols, figsize = (20,20))\n",
    "\n",
    "colormap = np.array(['b','y'])\n",
    "\n",
    "for row_count in range(plot_rows):\n",
    "    for col_count in range(plot_cols):\n",
    "        ax[row_count][col_count].scatter(y = new_df[column_names[columns_index]], x = new_df.index, c = colormap[new_df['Target']])\n",
    "        ax[row_count][col_count].set_ylabel(column_names[columns_index])\n",
    "        columns_index += 1"
   ]
  },
  {
   "cell_type": "markdown",
   "id": "fc2f5813",
   "metadata": {
    "id": "I1L2S1xAzo95",
    "papermill": {
     "duration": null,
     "end_time": null,
     "exception": null,
     "start_time": null,
     "status": "pending"
    },
    "tags": []
   },
   "source": [
    "### From the above plots we can see that\n",
    "* Columns Per1, Per2, Per3, Per4, Per5, Per6, Per7, Per9, Der1, Der4, Der5 and Cred5 seem to be significant\n",
    "* We also see a few outliers throughout the dataset\n",
    "* There seems to be skewness throughout\n"
   ]
  },
  {
   "cell_type": "markdown",
   "id": "7e00a382",
   "metadata": {
    "id": "bzTv7qAj1k9c",
    "papermill": {
     "duration": null,
     "end_time": null,
     "exception": null,
     "start_time": null,
     "status": "pending"
    },
    "tags": []
   },
   "source": [
    "### Advanced EDA - Using Pandas Profiling"
   ]
  },
  {
   "cell_type": "code",
   "execution_count": null,
   "id": "2ccccb43",
   "metadata": {
    "id": "tMGMmt5Bl4Gh",
    "outputId": "578bff90-fde1-4f33-b191-b13ca763cc18",
    "papermill": {
     "duration": null,
     "end_time": null,
     "exception": null,
     "start_time": null,
     "status": "pending"
    },
    "tags": []
   },
   "outputs": [],
   "source": [
    "prof = ProfileReport(train_df)\n",
    "prof.to_file(output_file = \"/EDA - Fraudulant ATM Transactions.html\")"
   ]
  },
  {
   "cell_type": "code",
   "execution_count": null,
   "id": "308543a8",
   "metadata": {
    "id": "xgYb568Fl4Gh",
    "outputId": "3adca1e8-e9ae-4419-e4f9-e49965e9f7c5",
    "papermill": {
     "duration": null,
     "end_time": null,
     "exception": null,
     "start_time": null,
     "status": "pending"
    },
    "tags": []
   },
   "outputs": [],
   "source": [
    "@jit(target_backend='cuda')\n",
    "def pp():\n",
    "  sns.pairplot(train_df)\n",
    "\n",
    "pp()"
   ]
  },
  {
   "cell_type": "markdown",
   "id": "44d4d625",
   "metadata": {
    "id": "0SqV624JGgte",
    "papermill": {
     "duration": null,
     "end_time": null,
     "exception": null,
     "start_time": null,
     "status": "pending"
    },
    "tags": []
   },
   "source": [
    "#### Pandas Profiling and pairplot confirms the above observations\n",
    "#### Additionally we can observe the below\n",
    "* There is no corellation greater that 75% in the dataset\n",
    "* There is no high auto corellation"
   ]
  },
  {
   "cell_type": "code",
   "execution_count": null,
   "id": "52b2f319",
   "metadata": {
    "id": "cm-NYb_MGgR1",
    "papermill": {
     "duration": null,
     "end_time": null,
     "exception": null,
     "start_time": null,
     "status": "pending"
    },
    "tags": []
   },
   "outputs": [],
   "source": [
    "# Encoding\n",
    "# Only one column is of type object, encoding needed for 'Group' column only\n",
    "\n",
    "# Converting object type to integer\n",
    "\n",
    "train_df['Group'] = train_df['Group'].astype('category')\n",
    "train_df['Group'] = train_df['Group'].cat.codes"
   ]
  },
  {
   "cell_type": "code",
   "execution_count": null,
   "id": "6ae703cd",
   "metadata": {
    "id": "EClumElaHcwA",
    "outputId": "495e0987-974b-49fb-ef3e-ce24eea2fd51",
    "papermill": {
     "duration": null,
     "end_time": null,
     "exception": null,
     "start_time": null,
     "status": "pending"
    },
    "tags": []
   },
   "outputs": [],
   "source": [
    "train_df.info()"
   ]
  },
  {
   "cell_type": "code",
   "execution_count": null,
   "id": "a3a2b770",
   "metadata": {
    "id": "XDriM75XHcy2",
    "outputId": "b7785fb2-618e-4fc1-ab9e-2c2465be3e71",
    "papermill": {
     "duration": null,
     "end_time": null,
     "exception": null,
     "start_time": null,
     "status": "pending"
    },
    "tags": []
   },
   "outputs": [],
   "source": [
    "# Checking for unique values\n",
    "\n",
    "train_df['Group'].nunique()\n"
   ]
  },
  {
   "cell_type": "code",
   "execution_count": null,
   "id": "689a5666",
   "metadata": {
    "id": "VngisXKQIF_m",
    "outputId": "335d1e2b-a615-44e8-fb55-79fcd16fb0d5",
    "papermill": {
     "duration": null,
     "end_time": null,
     "exception": null,
     "start_time": null,
     "status": "pending"
    },
    "tags": []
   },
   "outputs": [],
   "source": [
    "train_df['Group'].iloc[0]"
   ]
  },
  {
   "cell_type": "code",
   "execution_count": null,
   "id": "3256be7c",
   "metadata": {
    "id": "w68jPDn9IOhw",
    "outputId": "618f8801-2445-4eec-d0f3-57983dd203b9",
    "papermill": {
     "duration": null,
     "end_time": null,
     "exception": null,
     "start_time": null,
     "status": "pending"
    },
    "tags": []
   },
   "outputs": [],
   "source": [
    "train_df['Group'].iloc[1]"
   ]
  },
  {
   "cell_type": "code",
   "execution_count": null,
   "id": "18e09792",
   "metadata": {
    "id": "jmgSqloiHc2B",
    "outputId": "3a549a20-ae85-4591-bad0-90e995f68ee8",
    "papermill": {
     "duration": null,
     "end_time": null,
     "exception": null,
     "start_time": null,
     "status": "pending"
    },
    "tags": []
   },
   "outputs": [],
   "source": [
    "# Checking whether Group is a significant variable or not\n",
    "# check p-value\n",
    "\n",
    "model = ols('Target ~ Group', data = train_df).fit()\n",
    "anova_result = sm.stats.anova_lm(model, typ=2)\n",
    "print(anova_result)"
   ]
  },
  {
   "cell_type": "markdown",
   "id": "db7c1804",
   "metadata": {
    "id": "GpLcg4dvJX_e",
    "papermill": {
     "duration": null,
     "end_time": null,
     "exception": null,
     "start_time": null,
     "status": "pending"
    },
    "tags": []
   },
   "source": [
    "#### Since p-value is greater that 0.05 the Group feature is not significant"
   ]
  },
  {
   "cell_type": "markdown",
   "id": "bd6a9208",
   "metadata": {
    "id": "MbzinAZaKip8",
    "papermill": {
     "duration": null,
     "end_time": null,
     "exception": null,
     "start_time": null,
     "status": "pending"
    },
    "tags": []
   },
   "source": [
    "#### We can also see that column 'id' is insignificat"
   ]
  },
  {
   "cell_type": "code",
   "execution_count": null,
   "id": "48b7c2f3",
   "metadata": {
    "id": "fKH7LjOBJHkL",
    "outputId": "b1eb9b7f-7955-4076-efb9-16b606ecf7f5",
    "papermill": {
     "duration": null,
     "end_time": null,
     "exception": null,
     "start_time": null,
     "status": "pending"
    },
    "tags": []
   },
   "outputs": [],
   "source": [
    "# Droping the insignificant features\n",
    "\n",
    "insignificant_train_df = train_df.iloc[:,0:2]\n",
    "insignificant_train_df.head()"
   ]
  },
  {
   "cell_type": "code",
   "execution_count": null,
   "id": "00d8964b",
   "metadata": {
    "id": "fUkj5lmCOeHJ",
    "outputId": "9493700e-8841-4b39-ebe0-f5abe3f1cf2e",
    "papermill": {
     "duration": null,
     "end_time": null,
     "exception": null,
     "start_time": null,
     "status": "pending"
    },
    "tags": []
   },
   "outputs": [],
   "source": [
    "train_df.drop(columns = ['id','Group'], inplace = True)\n",
    "train_df.head()"
   ]
  },
  {
   "cell_type": "code",
   "execution_count": null,
   "id": "d7d6576a",
   "metadata": {
    "id": "3Wl_RuH0O54r",
    "outputId": "275d242a-8c3b-40eb-d3f4-7957e26ab2ad",
    "papermill": {
     "duration": null,
     "end_time": null,
     "exception": null,
     "start_time": null,
     "status": "pending"
    },
    "tags": []
   },
   "outputs": [],
   "source": [
    "insignificant_val_df = validation_df.iloc[:,0:2]\n",
    "insignificant_val_df.head()"
   ]
  },
  {
   "cell_type": "code",
   "execution_count": null,
   "id": "e75874c7",
   "metadata": {
    "id": "exayry98O5-e",
    "outputId": "53a2b21a-d7b0-49ae-cd8e-6e13b5de597c",
    "papermill": {
     "duration": null,
     "end_time": null,
     "exception": null,
     "start_time": null,
     "status": "pending"
    },
    "tags": []
   },
   "outputs": [],
   "source": [
    "validation_df.drop(columns = ['id','Group'], inplace = True)\n",
    "validation_df.head()"
   ]
  },
  {
   "cell_type": "code",
   "execution_count": null,
   "id": "e396b0e6",
   "metadata": {
    "id": "VWeFekrTO6CP",
    "outputId": "e5f409c9-be6c-4e45-c23c-9becd7f2c97b",
    "papermill": {
     "duration": null,
     "end_time": null,
     "exception": null,
     "start_time": null,
     "status": "pending"
    },
    "tags": []
   },
   "outputs": [],
   "source": [
    "insignificant_test_df = test_df.iloc[:,0:2]\n",
    "insignificant_test_df.head()"
   ]
  },
  {
   "cell_type": "code",
   "execution_count": null,
   "id": "aca39320",
   "metadata": {
    "id": "d72AnOSFO6Fs",
    "outputId": "b6ca678c-a18a-4e12-d83e-151325114c4d",
    "papermill": {
     "duration": null,
     "end_time": null,
     "exception": null,
     "start_time": null,
     "status": "pending"
    },
    "tags": []
   },
   "outputs": [],
   "source": [
    "test_df.drop(columns = ['id','Group'], inplace = True)\n",
    "test_df.head()"
   ]
  },
  {
   "cell_type": "code",
   "execution_count": null,
   "id": "307db7f1",
   "metadata": {
    "id": "sQGTuzdil4Gi",
    "outputId": "7c538bfb-eeb4-46e3-cccf-8d41607a5e7b",
    "papermill": {
     "duration": null,
     "end_time": null,
     "exception": null,
     "start_time": null,
     "status": "pending"
    },
    "tags": []
   },
   "outputs": [],
   "source": [
    "# Checking for data imbalance in training dataset\n",
    "\n",
    "train_df['Target'].value_counts()"
   ]
  },
  {
   "cell_type": "code",
   "execution_count": null,
   "id": "9bab1503",
   "metadata": {
    "id": "W4B88IWvl4Gi",
    "outputId": "ad9f89ec-7ed7-4017-bb7c-a40e5f7d2d0c",
    "papermill": {
     "duration": null,
     "end_time": null,
     "exception": null,
     "start_time": null,
     "status": "pending"
    },
    "tags": []
   },
   "outputs": [],
   "source": [
    "# Checking percentage of minority class\n",
    "\n",
    "print(276/(276+159215)*100,\"%\")"
   ]
  },
  {
   "cell_type": "code",
   "execution_count": null,
   "id": "6f0caaae",
   "metadata": {
    "id": "KfE5gkjsQVW3",
    "outputId": "b3eb3960-84d2-43b7-efc5-298ce1998014",
    "papermill": {
     "duration": null,
     "end_time": null,
     "exception": null,
     "start_time": null,
     "status": "pending"
    },
    "tags": []
   },
   "outputs": [],
   "source": [
    "# Checking for data imbalance in validation dataset\n",
    "\n",
    "validation_df['Target'].value_counts()"
   ]
  },
  {
   "cell_type": "code",
   "execution_count": null,
   "id": "ea6848fd",
   "metadata": {
    "id": "MZJGARx9QVZ_",
    "outputId": "f158a8f5-6364-4e4b-839d-56dd26898a37",
    "papermill": {
     "duration": null,
     "end_time": null,
     "exception": null,
     "start_time": null,
     "status": "pending"
    },
    "tags": []
   },
   "outputs": [],
   "source": [
    "# Checking percentage of minority class\n",
    "\n",
    "print(118/(118+68236)*100,\"%\")"
   ]
  },
  {
   "cell_type": "markdown",
   "id": "bd1e495f",
   "metadata": {
    "id": "CVtnH2TSl4Gj",
    "papermill": {
     "duration": null,
     "end_time": null,
     "exception": null,
     "start_time": null,
     "status": "pending"
    },
    "tags": []
   },
   "source": [
    "#### We can see a clear data imbalance\n",
    "* Minority class is only 0.17% in train and validation datasets (stratified)"
   ]
  },
  {
   "cell_type": "code",
   "execution_count": null,
   "id": "16384e94",
   "metadata": {
    "id": "0UtNv2iFl4Gj",
    "papermill": {
     "duration": null,
     "end_time": null,
     "exception": null,
     "start_time": null,
     "status": "pending"
    },
    "tags": []
   },
   "outputs": [],
   "source": [
    "# Balancing the dataset by oversampling (Random Oversampler technique)\n",
    "# Spliting x and y (DV and IDV) first\n",
    "\n",
    "train_features_df = train_df.iloc[:,:-1]\n",
    "train_target_df = train_df.iloc[:,-1]\n",
    "\n",
    "validation_features_df = validation_df.iloc[:,:-1]\n",
    "validation_target_df = validation_df.iloc[:,-1]"
   ]
  },
  {
   "cell_type": "code",
   "execution_count": null,
   "id": "e802f339",
   "metadata": {
    "id": "TcGFGJItl4Gk",
    "outputId": "5b7b1de1-d3a7-4882-d590-70f9b595b76d",
    "papermill": {
     "duration": null,
     "end_time": null,
     "exception": null,
     "start_time": null,
     "status": "pending"
    },
    "tags": []
   },
   "outputs": [],
   "source": [
    "train_features_df.columns"
   ]
  },
  {
   "cell_type": "code",
   "execution_count": null,
   "id": "1c74e9cd",
   "metadata": {
    "id": "8GGYDIiwl4Gl",
    "outputId": "5c8a581c-6ff3-40ab-e81b-7c6588ba5078",
    "papermill": {
     "duration": null,
     "end_time": null,
     "exception": null,
     "start_time": null,
     "status": "pending"
    },
    "tags": []
   },
   "outputs": [],
   "source": [
    "train_target_df.head()"
   ]
  },
  {
   "cell_type": "code",
   "execution_count": null,
   "id": "6168d4df",
   "metadata": {
    "id": "EL9YVdqcQVc4",
    "outputId": "44e802a2-89d1-407c-fe64-9913e8841b81",
    "papermill": {
     "duration": null,
     "end_time": null,
     "exception": null,
     "start_time": null,
     "status": "pending"
    },
    "tags": []
   },
   "outputs": [],
   "source": [
    "validation_features_df.columns"
   ]
  },
  {
   "cell_type": "code",
   "execution_count": null,
   "id": "590095f0",
   "metadata": {
    "id": "xXDhJqFNQVf7",
    "outputId": "2ab0c3ff-cb27-4ea7-e2e0-0a0ac394395f",
    "papermill": {
     "duration": null,
     "end_time": null,
     "exception": null,
     "start_time": null,
     "status": "pending"
    },
    "tags": []
   },
   "outputs": [],
   "source": [
    "validation_target_df.head()"
   ]
  },
  {
   "cell_type": "code",
   "execution_count": null,
   "id": "0ee13cb5",
   "metadata": {
    "id": "Y-qpKCsTl4Gm",
    "outputId": "13c4bd94-7f62-469f-83a4-9f1e6b935c95",
    "papermill": {
     "duration": null,
     "end_time": null,
     "exception": null,
     "start_time": null,
     "status": "pending"
    },
    "tags": []
   },
   "outputs": [],
   "source": [
    "print(train_features_df.shape, validation_features_df.shape, train_target_df.shape, validation_target_df.shape)"
   ]
  },
  {
   "cell_type": "markdown",
   "id": "f2776e2a",
   "metadata": {
    "id": "mqbek-mfl4Go",
    "papermill": {
     "duration": null,
     "end_time": null,
     "exception": null,
     "start_time": null,
     "status": "pending"
    },
    "tags": []
   },
   "source": [
    "#### Minority class before and after train test spllt is 0.17%"
   ]
  },
  {
   "cell_type": "code",
   "execution_count": null,
   "id": "cb5df14f",
   "metadata": {
    "id": "ZtQEO7IKl4Go",
    "papermill": {
     "duration": null,
     "end_time": null,
     "exception": null,
     "start_time": null,
     "status": "pending"
    },
    "tags": []
   },
   "outputs": [],
   "source": [
    "# Oversampling of train data using Random Over Sampling Technique\n",
    "\n",
    "over = RandomOverSampler()\n",
    "ovrsam_train_features, ovrsam_train_target = over.fit_resample(train_features_df, train_target_df)\n",
    "ovrsam_val_features, ovrsam_val_target = over.fit_resample(validation_features_df, validation_target_df)"
   ]
  },
  {
   "cell_type": "code",
   "execution_count": null,
   "id": "fc3db36b",
   "metadata": {
    "id": "NDCEqxpGl4Gp",
    "outputId": "7e857d6c-6ff8-45e4-9e8d-5fdcefc610fc",
    "papermill": {
     "duration": null,
     "end_time": null,
     "exception": null,
     "start_time": null,
     "status": "pending"
    },
    "tags": []
   },
   "outputs": [],
   "source": [
    "# After oversampling\n",
    "\n",
    "print(\"Shape : \", ovrsam_train_features.shape, ovrsam_train_target.shape, ovrsam_val_features.shape, ovrsam_val_target.shape)\n",
    "print(\"Value counts : \", ovrsam_train_target.value_counts(), ovrsam_val_target.value_counts())"
   ]
  },
  {
   "cell_type": "markdown",
   "id": "4fa1ff91",
   "metadata": {
    "id": "Zh3ROE2xVpKM",
    "papermill": {
     "duration": null,
     "end_time": null,
     "exception": null,
     "start_time": null,
     "status": "pending"
    },
    "tags": []
   },
   "source": [
    "#### Data imbalance is cleared"
   ]
  },
  {
   "cell_type": "markdown",
   "id": "75fd21a2",
   "metadata": {
    "id": "jNT7JT89V1bh",
    "papermill": {
     "duration": null,
     "end_time": null,
     "exception": null,
     "start_time": null,
     "status": "pending"
    },
    "tags": []
   },
   "source": [
    "### Using pycaret to find the best model (without any data preprocessing)"
   ]
  },
  {
   "cell_type": "code",
   "execution_count": null,
   "id": "b1234a73",
   "metadata": {
    "id": "ZSi1w-Pwl4Gp",
    "outputId": "304e523d-e592-4ba2-9c71-c9db97f8d521",
    "papermill": {
     "duration": null,
     "end_time": null,
     "exception": null,
     "start_time": null,
     "status": "pending"
    },
    "tags": []
   },
   "outputs": [],
   "source": [
    "raw_clf = setup(data = ovrsam_train_features, target = ovrsam_train_target, use_gpu = True, pca = True, pca_components = 0.95, session_id = 111)"
   ]
  },
  {
   "cell_type": "code",
   "execution_count": null,
   "id": "a365bdde",
   "metadata": {
    "id": "X_l3ll_0l4Gr",
    "outputId": "23f7e017-64ba-4d44-e861-f8f34491b442",
    "papermill": {
     "duration": null,
     "end_time": null,
     "exception": null,
     "start_time": null,
     "status": "pending"
    },
    "tags": []
   },
   "outputs": [],
   "source": [
    "compare_models()"
   ]
  },
  {
   "cell_type": "markdown",
   "id": "c8473325",
   "metadata": {
    "id": "-qLB2-JWtJya",
    "papermill": {
     "duration": null,
     "end_time": null,
     "exception": null,
     "start_time": null,
     "status": "pending"
    },
    "tags": []
   },
   "source": [
    "### Without any of the data preprocessing Decission Tree and Random Forest Models seem to have the highest train accuracy afetr cross validation.\n",
    "\n",
    "### Iterating after outlier treatment to see if we get a better result"
   ]
  },
  {
   "cell_type": "code",
   "execution_count": null,
   "id": "b7d6bcfa",
   "metadata": {
    "id": "1k838ED6l4HE",
    "papermill": {
     "duration": null,
     "end_time": null,
     "exception": null,
     "start_time": null,
     "status": "pending"
    },
    "tags": []
   },
   "outputs": [],
   "source": [
    "# Checking for outliers in train data\n",
    "# Creating a new dataframe to hold the outlier treated dataset\n",
    "\n",
    "outltrtd_train_features = ovrsam_train_features\n",
    "outltrtd_train_target = ovrsam_train_target"
   ]
  },
  {
   "cell_type": "code",
   "execution_count": null,
   "id": "8d92117f",
   "metadata": {
    "id": "NJ-CMrYql4HE",
    "outputId": "7e22e75d-2f80-4787-c1ee-4bcb1b4a0e21",
    "papermill": {
     "duration": null,
     "end_time": null,
     "exception": null,
     "start_time": null,
     "status": "pending"
    },
    "tags": []
   },
   "outputs": [],
   "source": [
    "outltrtd_train_features.head()"
   ]
  },
  {
   "cell_type": "code",
   "execution_count": null,
   "id": "caf8db85",
   "metadata": {
    "id": "WZ6mCSupl4HF",
    "outputId": "6d09bd24-7299-464e-f8fd-9c8b410bd2c1",
    "papermill": {
     "duration": null,
     "end_time": null,
     "exception": null,
     "start_time": null,
     "status": "pending"
    },
    "tags": []
   },
   "outputs": [],
   "source": [
    "outltrtd_train_features.info()"
   ]
  },
  {
   "cell_type": "code",
   "execution_count": null,
   "id": "95aa3eeb",
   "metadata": {
    "id": "-rjAm0Gfl4HF",
    "outputId": "90285ac0-f70d-401b-82c0-8c59afd9563b",
    "papermill": {
     "duration": null,
     "end_time": null,
     "exception": null,
     "start_time": null,
     "status": "pending"
    },
    "tags": []
   },
   "outputs": [],
   "source": [
    "for i in outltrtd_train_features.columns:\n",
    "  sns.boxplot(outltrtd_train_features[i])\n",
    "  plt.show()"
   ]
  },
  {
   "cell_type": "code",
   "execution_count": null,
   "id": "11790c8e",
   "metadata": {
    "id": "ZDireJj3ziRX",
    "outputId": "c28e7c58-a4b1-481d-c8a0-8fa54ebf45f3",
    "papermill": {
     "duration": null,
     "end_time": null,
     "exception": null,
     "start_time": null,
     "status": "pending"
    },
    "tags": []
   },
   "outputs": [],
   "source": [
    "for i in outltrtd_train_features.columns:\n",
    "  sns.distplot(outltrtd_train_features[i])\n",
    "  plt.show()"
   ]
  },
  {
   "cell_type": "markdown",
   "id": "5eb264d5",
   "metadata": {
    "id": "qByCCzi5zCXt",
    "papermill": {
     "duration": null,
     "end_time": null,
     "exception": null,
     "start_time": null,
     "status": "pending"
    },
    "tags": []
   },
   "source": [
    "### We see outliers in almost all columns\n",
    "* This creates skewness of data\n",
    "* Treating the outliers to overcome skewness"
   ]
  },
  {
   "cell_type": "code",
   "execution_count": null,
   "id": "3c9c99c5",
   "metadata": {
    "id": "gweN3AteyhB-",
    "papermill": {
     "duration": null,
     "end_time": null,
     "exception": null,
     "start_time": null,
     "status": "pending"
    },
    "tags": []
   },
   "outputs": [],
   "source": [
    "# Using IQR caping method\n",
    "\n",
    "for i in outltrtd_train_features.columns:\n",
    "  col_q1 = outltrtd_train_features[i].quantile(0.25)\n",
    "  col_q3 = outltrtd_train_features[i].quantile(0.75)\n",
    "  col_iqr = col_q3 - col_q1\n",
    "\n",
    "  upper_limit = col_q3 + (1.5 * col_iqr)\n",
    "  lower_limit = col_q1 - (1.5 * col_iqr)\n",
    "\n",
    "  outltrtd_train_features[i] = np.where(outltrtd_train_features[i] > upper_limit, upper_limit, np.where(outltrtd_train_features[i] < lower_limit, lower_limit, outltrtd_train_features[i]))"
   ]
  },
  {
   "cell_type": "code",
   "execution_count": null,
   "id": "f116033d",
   "metadata": {
    "id": "VX7VytDn2lH1",
    "outputId": "29a559c1-fb28-4149-9873-e330e40fe02f",
    "papermill": {
     "duration": null,
     "end_time": null,
     "exception": null,
     "start_time": null,
     "status": "pending"
    },
    "tags": []
   },
   "outputs": [],
   "source": [
    "for i in outltrtd_train_features.columns:\n",
    "  sns.boxplot(outltrtd_train_features[i])\n",
    "  plt.show()"
   ]
  },
  {
   "cell_type": "markdown",
   "id": "8b5c90f4",
   "metadata": {
    "id": "FvKw_WLm269N",
    "papermill": {
     "duration": null,
     "end_time": null,
     "exception": null,
     "start_time": null,
     "status": "pending"
    },
    "tags": []
   },
   "source": [
    "### We can observe that all outliers are treated and within 1.5 times the IQR"
   ]
  },
  {
   "cell_type": "code",
   "execution_count": null,
   "id": "4fff3ed9",
   "metadata": {
    "id": "rJ0NHOzP2w3G",
    "outputId": "16d7498a-6ae6-4832-e5f0-28ec141c4a02",
    "papermill": {
     "duration": null,
     "end_time": null,
     "exception": null,
     "start_time": null,
     "status": "pending"
    },
    "tags": []
   },
   "outputs": [],
   "source": [
    "# Iterating with the outlier treated data to see if there is any improvement\n",
    "\n",
    "outltrtd_clf = setup(data = outltrtd_train_features, target = outltrtd_train_target, use_gpu = True, pca = True, pca_components = 0.95, session_id = 111)"
   ]
  },
  {
   "cell_type": "code",
   "execution_count": null,
   "id": "4970a812",
   "metadata": {
    "id": "dFC0USNk3t1m",
    "outputId": "e756363b-491f-4f57-a5db-bf354e429cee",
    "papermill": {
     "duration": null,
     "end_time": null,
     "exception": null,
     "start_time": null,
     "status": "pending"
    },
    "tags": []
   },
   "outputs": [],
   "source": [
    "compare_models()"
   ]
  },
  {
   "cell_type": "markdown",
   "id": "faf4b9df",
   "metadata": {
    "id": "zTVZL4KD6TY8",
    "papermill": {
     "duration": null,
     "end_time": null,
     "exception": null,
     "start_time": null,
     "status": "pending"
    },
    "tags": []
   },
   "source": [
    "### There is slight change in accuracy and speed throughout different models"
   ]
  },
  {
   "cell_type": "code",
   "execution_count": null,
   "id": "22fa8b4a",
   "metadata": {
    "id": "mJ93rzPc31lK",
    "outputId": "b7d0ca24-2078-49f2-f776-96490fa232d1",
    "papermill": {
     "duration": null,
     "end_time": null,
     "exception": null,
     "start_time": null,
     "status": "pending"
    },
    "tags": []
   },
   "outputs": [],
   "source": [
    "# Iterating after feature scalling - Trying with outliers and outlier treated dataset\n",
    "\n",
    "# Feature scalling with outliers\n",
    "\n",
    "ovrsam_train_features.describe()"
   ]
  },
  {
   "cell_type": "code",
   "execution_count": null,
   "id": "ea6fd519",
   "metadata": {
    "id": "RmtUouVN7fvy",
    "outputId": "6d95e7fd-126e-4ad1-f20f-d334404a8e16",
    "papermill": {
     "duration": null,
     "end_time": null,
     "exception": null,
     "start_time": null,
     "status": "pending"
    },
    "tags": []
   },
   "outputs": [],
   "source": [
    "scaler = StandardScaler()\n",
    "ovrsamscl_train_features = pd.DataFrame(scaler.fit_transform(ovrsam_train_features))\n",
    "ovrsamscl_train_features.head()"
   ]
  },
  {
   "cell_type": "code",
   "execution_count": null,
   "id": "41c72c9c",
   "metadata": {
    "id": "XU2vEb9B8Ce2",
    "outputId": "548bded1-9f40-4826-e925-d51a32c15d8c",
    "papermill": {
     "duration": null,
     "end_time": null,
     "exception": null,
     "start_time": null,
     "status": "pending"
    },
    "tags": []
   },
   "outputs": [],
   "source": [
    "ovrsamscld_clf = setup(data = ovrsamscl_train_features, target = ovrsam_train_target, use_gpu = True, pca = True, pca_components = 0.95, session_id = 111)"
   ]
  },
  {
   "cell_type": "code",
   "execution_count": null,
   "id": "aa6ac8f1",
   "metadata": {
    "id": "OZ891VaA8qey",
    "outputId": "b8c86b2c-e68f-4ca6-b62e-4c34decc6201",
    "papermill": {
     "duration": null,
     "end_time": null,
     "exception": null,
     "start_time": null,
     "status": "pending"
    },
    "tags": []
   },
   "outputs": [],
   "source": [
    "compare_models()"
   ]
  },
  {
   "cell_type": "code",
   "execution_count": null,
   "id": "245668f0",
   "metadata": {
    "id": "UpRZrtxn87xe",
    "outputId": "38938595-aa9c-4268-e283-9b6b2af20913",
    "papermill": {
     "duration": null,
     "end_time": null,
     "exception": null,
     "start_time": null,
     "status": "pending"
    },
    "tags": []
   },
   "outputs": [],
   "source": [
    "# Iterating after feature scalling - Trying with outliers and outlier treated dataset\n",
    "\n",
    "# Feature scalling after outlier treatment\n",
    "\n",
    "outltrtd_train_features.describe()"
   ]
  },
  {
   "cell_type": "code",
   "execution_count": null,
   "id": "5f2e6fa5",
   "metadata": {
    "id": "w7SbCrl2-ZzR",
    "outputId": "d647b8b7-55b5-4eca-97c2-fe5e667e66a9",
    "papermill": {
     "duration": null,
     "end_time": null,
     "exception": null,
     "start_time": null,
     "status": "pending"
    },
    "tags": []
   },
   "outputs": [],
   "source": [
    "outltrtdscl_train_features = pd.DataFrame(scaler.fit_transform(outltrtd_train_features))\n",
    "outltrtdscl_train_features.head()"
   ]
  },
  {
   "cell_type": "code",
   "execution_count": null,
   "id": "fedf5a96",
   "metadata": {
    "id": "azUKM8ht-Z2j",
    "outputId": "cd4fa2db-0317-4660-9cec-e99b0c7fa0e4",
    "papermill": {
     "duration": null,
     "end_time": null,
     "exception": null,
     "start_time": null,
     "status": "pending"
    },
    "tags": []
   },
   "outputs": [],
   "source": [
    "outltrtdscl_clf = setup(data = outltrtdscl_train_features, target = ovrsam_train_target, use_gpu = True, pca = True, pca_components = 0.95, session_id = 111)"
   ]
  },
  {
   "cell_type": "code",
   "execution_count": null,
   "id": "072bbc82",
   "metadata": {
    "id": "ZIttR2wc-Z8v",
    "outputId": "8234d264-3da5-4974-a9c0-4e7e379fc95b",
    "papermill": {
     "duration": null,
     "end_time": null,
     "exception": null,
     "start_time": null,
     "status": "pending"
    },
    "tags": []
   },
   "outputs": [],
   "source": [
    "compare_models()"
   ]
  },
  {
   "cell_type": "markdown",
   "id": "7bdf1d4a",
   "metadata": {
    "id": "QrR48ZmfGwxC",
    "papermill": {
     "duration": null,
     "end_time": null,
     "exception": null,
     "start_time": null,
     "status": "pending"
    },
    "tags": []
   },
   "source": [
    "### After all the comparisons we can observe the below\n",
    "\n",
    "* We get better results after feature scalling\n",
    "* Outlier treatment doesnt seem to affect the accuracy that significantly\n",
    "* After oversampling and cross validation for 10 folds we get very good accuracies (more than 99%) in the below models (with or without outlier treatment)\n",
    "  * Gradient Boosting Classifier - 99.36%\n",
    "  * KNN Classifier - 99.94%\n",
    "  * Decission Tree Classifier - 99.96%\n",
    "  * Light GBM - 99.98%\n",
    "  * XG Boosting - 99.99%\n",
    "  * Random Forest Classifier - 99.99%\n",
    "  * Extra Trees Classifier - 100%"
   ]
  },
  {
   "cell_type": "markdown",
   "id": "553bdf61",
   "metadata": {
    "id": "Hya07fZ2LS_B",
    "papermill": {
     "duration": null,
     "end_time": null,
     "exception": null,
     "start_time": null,
     "status": "pending"
    },
    "tags": []
   },
   "source": [
    "### Using the Random Forest model (to avoid overfitting problem of 100% with Extra Trees Classifier)"
   ]
  },
  {
   "cell_type": "code",
   "execution_count": null,
   "id": "c6bf4deb",
   "metadata": {
    "id": "_TdOQjOF-aA3",
    "outputId": "e47fa254-dfca-4d4c-fcfa-d3024bc331b3",
    "papermill": {
     "duration": null,
     "end_time": null,
     "exception": null,
     "start_time": null,
     "status": "pending"
    },
    "tags": []
   },
   "outputs": [],
   "source": [
    "# Creating the model\n",
    "\n",
    "rf = create_model('rf')"
   ]
  },
  {
   "cell_type": "code",
   "execution_count": null,
   "id": "0213b53d",
   "metadata": {
    "id": "4ogLw6oP-aD8",
    "outputId": "525d4a34-c7c8-4b06-fe9d-abcde29b7495",
    "papermill": {
     "duration": null,
     "end_time": null,
     "exception": null,
     "start_time": null,
     "status": "pending"
    },
    "tags": []
   },
   "outputs": [],
   "source": [
    "# Hyperparameter tuning\n",
    "\n",
    "@jit(target_backend='cuda')\n",
    "def tune():\n",
    "  tuned_rf = tune_model(rf)\n",
    "\n",
    "tune()"
   ]
  },
  {
   "cell_type": "markdown",
   "id": "5e28a77b",
   "metadata": {
    "id": "D70Glelw2AG3",
    "papermill": {
     "duration": null,
     "end_time": null,
     "exception": null,
     "start_time": null,
     "status": "pending"
    },
    "tags": []
   },
   "source": [
    "### We see that the default model is better than the tuned model.\n",
    "\n",
    "### Evaluating Random Forest Classifier model"
   ]
  },
  {
   "cell_type": "code",
   "execution_count": null,
   "id": "ee766349",
   "metadata": {
    "id": "STr8L6Zy-aGQ",
    "outputId": "07544d23-4796-4ba7-dab2-c5cc03c1cdeb",
    "papermill": {
     "duration": null,
     "end_time": null,
     "exception": null,
     "start_time": null,
     "status": "pending"
    },
    "tags": []
   },
   "outputs": [],
   "source": [
    "evaluate_model(rf)"
   ]
  },
  {
   "cell_type": "markdown",
   "id": "fcc1a9d3",
   "metadata": {
    "id": "JIegKnCY22xK",
    "papermill": {
     "duration": null,
     "end_time": null,
     "exception": null,
     "start_time": null,
     "status": "pending"
    },
    "tags": []
   },
   "source": [
    "### Defining the predictive model as Random Forest Classifier"
   ]
  },
  {
   "cell_type": "code",
   "execution_count": null,
   "id": "dab0e3aa",
   "metadata": {
    "id": "ln1HjXvA2olo",
    "outputId": "30f1416a-41a0-4cfa-b6ff-0b1e6c7a712a",
    "papermill": {
     "duration": null,
     "end_time": null,
     "exception": null,
     "start_time": null,
     "status": "pending"
    },
    "tags": []
   },
   "outputs": [],
   "source": [
    "predict_model(rf)"
   ]
  },
  {
   "cell_type": "markdown",
   "id": "ba740bfb",
   "metadata": {
    "id": "w_kaOkn93EXZ",
    "papermill": {
     "duration": null,
     "end_time": null,
     "exception": null,
     "start_time": null,
     "status": "pending"
    },
    "tags": []
   },
   "source": [
    "### We can see very good results"
   ]
  },
  {
   "cell_type": "markdown",
   "id": "f1b49d77",
   "metadata": {
    "id": "8mzrPwId5QPA",
    "papermill": {
     "duration": null,
     "end_time": null,
     "exception": null,
     "start_time": null,
     "status": "pending"
    },
    "tags": []
   },
   "source": [
    "## Validation of the predictive model\n",
    "\n",
    "### Doing the same preprocessing as training dataset"
   ]
  },
  {
   "cell_type": "code",
   "execution_count": null,
   "id": "a460b009",
   "metadata": {
    "id": "SBuu3Nvc2_-I",
    "outputId": "34978b66-b630-4850-cfc2-7cfda60c2afd",
    "papermill": {
     "duration": null,
     "end_time": null,
     "exception": null,
     "start_time": null,
     "status": "pending"
    },
    "tags": []
   },
   "outputs": [],
   "source": [
    "validation_df.head()"
   ]
  },
  {
   "cell_type": "code",
   "execution_count": null,
   "id": "8c3fa6d8",
   "metadata": {
    "id": "qgFMZGxF3lb8",
    "outputId": "c733c0de-755e-49c0-d072-ea8a991c4734",
    "papermill": {
     "duration": null,
     "end_time": null,
     "exception": null,
     "start_time": null,
     "status": "pending"
    },
    "tags": []
   },
   "outputs": [],
   "source": [
    "validation_features_df.head()"
   ]
  },
  {
   "cell_type": "code",
   "execution_count": null,
   "id": "2eccc614",
   "metadata": {
    "id": "8kwTIrNP6Ej0",
    "outputId": "c6b92607-80de-4587-b5be-32efa75b3ad9",
    "papermill": {
     "duration": null,
     "end_time": null,
     "exception": null,
     "start_time": null,
     "status": "pending"
    },
    "tags": []
   },
   "outputs": [],
   "source": [
    "validation_target_df.head()"
   ]
  },
  {
   "cell_type": "code",
   "execution_count": null,
   "id": "89342a83",
   "metadata": {
    "id": "s7XWJPWa6JYK",
    "outputId": "487219de-54b4-4000-f89a-4be6fe46d936",
    "papermill": {
     "duration": null,
     "end_time": null,
     "exception": null,
     "start_time": null,
     "status": "pending"
    },
    "tags": []
   },
   "outputs": [],
   "source": [
    "outltrtd_val_features = validation_features_df\n",
    "outltrtd_val_target = validation_target_df\n",
    "\n",
    "outltrtd_val_features.head()"
   ]
  },
  {
   "cell_type": "code",
   "execution_count": null,
   "id": "b8062f20",
   "metadata": {
    "id": "YoNZyb_J6gyF",
    "papermill": {
     "duration": null,
     "end_time": null,
     "exception": null,
     "start_time": null,
     "status": "pending"
    },
    "tags": []
   },
   "outputs": [],
   "source": [
    "# Using IQR caping method\n",
    "\n",
    "for i in outltrtd_val_features.columns:\n",
    "  col_q1 = outltrtd_val_features[i].quantile(0.25)\n",
    "  col_q3 = outltrtd_val_features[i].quantile(0.75)\n",
    "  col_iqr = col_q3 - col_q1\n",
    "\n",
    "  upper_limit = col_q3 + (1.5 * col_iqr)\n",
    "  lower_limit = col_q1 - (1.5 * col_iqr)\n",
    "\n",
    "  outltrtd_val_features[i] = np.where(outltrtd_val_features[i] > upper_limit, upper_limit, np.where(outltrtd_val_features[i] < lower_limit, lower_limit, outltrtd_val_features[i]))"
   ]
  },
  {
   "cell_type": "code",
   "execution_count": null,
   "id": "ee721ae5",
   "metadata": {
    "id": "mm4CeN6a7LSS",
    "outputId": "01decc87-6d9d-446d-a6fc-d2baafe30b76",
    "papermill": {
     "duration": null,
     "end_time": null,
     "exception": null,
     "start_time": null,
     "status": "pending"
    },
    "tags": []
   },
   "outputs": [],
   "source": [
    "# Feature scalling\n",
    "\n",
    "outltrtdscl_val_features = pd.DataFrame(scaler.fit_transform(outltrtd_val_features))\n",
    "outltrtdscl_val_features.head()"
   ]
  },
  {
   "cell_type": "code",
   "execution_count": null,
   "id": "29804281",
   "metadata": {
    "id": "mUxbe5ze8c41",
    "outputId": "517f3685-5003-4bad-d4a9-aaa97975d376",
    "papermill": {
     "duration": null,
     "end_time": null,
     "exception": null,
     "start_time": null,
     "status": "pending"
    },
    "tags": []
   },
   "outputs": [],
   "source": [
    "# Concating with the target to validate the model\n",
    "\n",
    "validation_df2 = pd.concat([outltrtdscl_val_features, validation_target_df], axis = 1, join = 'inner')\n",
    "validation_df2.head()"
   ]
  },
  {
   "cell_type": "code",
   "execution_count": null,
   "id": "b666ba04",
   "metadata": {
    "id": "DM7u3ATD8c7o",
    "outputId": "1311a4f0-882c-4bf7-e78c-91ffa0a43af7",
    "papermill": {
     "duration": null,
     "end_time": null,
     "exception": null,
     "start_time": null,
     "status": "pending"
    },
    "tags": []
   },
   "outputs": [],
   "source": [
    "# Running the predictive model\n",
    "\n",
    "validation_predictions2 = predict_model(rf, data = outltrtdscl_val_features)\n",
    "validation_predictions2"
   ]
  },
  {
   "cell_type": "markdown",
   "id": "0f35ecfd",
   "metadata": {
    "id": "2wABu2bm_Iew",
    "papermill": {
     "duration": null,
     "end_time": null,
     "exception": null,
     "start_time": null,
     "status": "pending"
    },
    "tags": []
   },
   "source": [
    "## Predicting the results of the test data\n",
    "\n",
    "### Doing the same preprocessing as train dataset"
   ]
  },
  {
   "cell_type": "code",
   "execution_count": null,
   "id": "94fa8ba6",
   "metadata": {
    "id": "2m9hMfOS8c-Y",
    "outputId": "56085afa-a8cf-431b-a235-aab869dbcd4c",
    "papermill": {
     "duration": null,
     "end_time": null,
     "exception": null,
     "start_time": null,
     "status": "pending"
    },
    "tags": []
   },
   "outputs": [],
   "source": [
    "test_df.head()"
   ]
  },
  {
   "cell_type": "code",
   "execution_count": null,
   "id": "601af78a",
   "metadata": {
    "id": "wdI58ImL8dBZ",
    "papermill": {
     "duration": null,
     "end_time": null,
     "exception": null,
     "start_time": null,
     "status": "pending"
    },
    "tags": []
   },
   "outputs": [],
   "source": [
    "# Using IQR caping method\n",
    "\n",
    "for i in test_df.columns:\n",
    "  col_q1 = test_df[i].quantile(0.25)\n",
    "  col_q3 = test_df[i].quantile(0.75)\n",
    "  col_iqr = col_q3 - col_q1\n",
    "\n",
    "  upper_limit = col_q3 + (1.5 * col_iqr)\n",
    "  lower_limit = col_q1 - (1.5 * col_iqr)\n",
    "\n",
    "  test_df[i] = np.where(test_df[i] > upper_limit, upper_limit, np.where(test_df[i] < lower_limit, lower_limit, test_df[i]))"
   ]
  },
  {
   "cell_type": "code",
   "execution_count": null,
   "id": "5aca225e",
   "metadata": {
    "id": "lJPGkVlC8dDw",
    "outputId": "73077e53-3ac6-4bd0-c7a1-a7c66c6055c4",
    "papermill": {
     "duration": null,
     "end_time": null,
     "exception": null,
     "start_time": null,
     "status": "pending"
    },
    "tags": []
   },
   "outputs": [],
   "source": [
    "# Feature scalling\n",
    "\n",
    "scld_test_df = pd.DataFrame(scaler.fit_transform(test_df))\n",
    "scld_test_df.head()"
   ]
  },
  {
   "cell_type": "code",
   "execution_count": null,
   "id": "af07f89f",
   "metadata": {
    "id": "LTxU6j5m_8jL",
    "outputId": "ef9e69f7-e46c-41f3-c411-51e7904dce33",
    "papermill": {
     "duration": null,
     "end_time": null,
     "exception": null,
     "start_time": null,
     "status": "pending"
    },
    "tags": []
   },
   "outputs": [],
   "source": [
    "# Running the predictive model\n",
    "\n",
    "test_predictions = predict_model(rf, data = scld_test_df)\n",
    "test_predictions"
   ]
  },
  {
   "cell_type": "code",
   "execution_count": null,
   "id": "503cbb0d",
   "metadata": {
    "id": "PtAy6E3TAcnL",
    "papermill": {
     "duration": null,
     "end_time": null,
     "exception": null,
     "start_time": null,
     "status": "pending"
    },
    "tags": []
   },
   "outputs": [],
   "source": [
    "# Extracting the final results to excel\n",
    "\n",
    "test_predictions.to_excel('TestResults.xlsx')"
   ]
  },
  {
   "cell_type": "code",
   "execution_count": null,
   "id": "b157a63e",
   "metadata": {
    "id": "ZuxJFX9JAveK",
    "outputId": "bb480bed-b5ac-446c-fadc-6e377db0df94",
    "papermill": {
     "duration": null,
     "end_time": null,
     "exception": null,
     "start_time": null,
     "status": "pending"
    },
    "tags": []
   },
   "outputs": [],
   "source": [
    "# Saving model for deployment\n",
    "\n",
    "save_model(rf, \"fraudulent_detection_rf\")"
   ]
  },
  {
   "cell_type": "code",
   "execution_count": null,
   "id": "03ed79ef",
   "metadata": {
    "id": "u3dreW8tA6-H",
    "papermill": {
     "duration": null,
     "end_time": null,
     "exception": null,
     "start_time": null,
     "status": "pending"
    },
    "tags": []
   },
   "outputs": [],
   "source": []
  }
 ],
 "metadata": {
  "accelerator": "GPU",
  "colab": {
   "gpuType": "A100",
   "provenance": []
  },
  "kaggle": {
   "accelerator": "none",
   "dataSources": [
    {
     "datasetId": 6673442,
     "sourceId": 10758711,
     "sourceType": "datasetVersion"
    }
   ],
   "isGpuEnabled": false,
   "isInternetEnabled": true,
   "language": "python",
   "sourceType": "notebook"
  },
  "kernelspec": {
   "display_name": "Python 3 (ipykernel)",
   "language": "python",
   "name": "python3"
  },
  "language_info": {
   "codemirror_mode": {
    "name": "ipython",
    "version": 3
   },
   "file_extension": ".py",
   "mimetype": "text/x-python",
   "name": "python",
   "nbconvert_exporter": "python",
   "pygments_lexer": "ipython3",
   "version": "3.10.12"
  },
  "papermill": {
   "default_parameters": {},
   "duration": 17.698447,
   "end_time": "2025-02-15T18:55:53.960348",
   "environment_variables": {},
   "exception": true,
   "input_path": "__notebook__.ipynb",
   "output_path": "__notebook__.ipynb",
   "parameters": {},
   "start_time": "2025-02-15T18:55:36.261901",
   "version": "2.6.0"
  },
  "widgets": {
   "application/vnd.jupyter.widget-state+json": {
    "0110c747d5b641aba721ca7f18d1263f": {
     "model_module": "@jupyter-widgets/base",
     "model_module_version": "1.2.0",
     "model_name": "LayoutModel",
     "state": {
      "_model_module": "@jupyter-widgets/base",
      "_model_module_version": "1.2.0",
      "_model_name": "LayoutModel",
      "_view_count": null,
      "_view_module": "@jupyter-widgets/base",
      "_view_module_version": "1.2.0",
      "_view_name": "LayoutView",
      "align_content": null,
      "align_items": null,
      "align_self": null,
      "border": null,
      "bottom": null,
      "display": null,
      "flex": null,
      "flex_flow": null,
      "grid_area": null,
      "grid_auto_columns": null,
      "grid_auto_flow": null,
      "grid_auto_rows": null,
      "grid_column": null,
      "grid_gap": null,
      "grid_row": null,
      "grid_template_areas": null,
      "grid_template_columns": null,
      "grid_template_rows": null,
      "height": null,
      "justify_content": null,
      "justify_items": null,
      "left": null,
      "margin": null,
      "max_height": null,
      "max_width": null,
      "min_height": null,
      "min_width": null,
      "object_fit": null,
      "object_position": null,
      "order": null,
      "overflow": null,
      "overflow_x": null,
      "overflow_y": null,
      "padding": null,
      "right": null,
      "top": null,
      "visibility": null,
      "width": null
     }
    },
    "0275b24b930a4ff0a6e83d72b037c1cb": {
     "model_module": "@jupyter-widgets/controls",
     "model_module_version": "1.5.0",
     "model_name": "ProgressStyleModel",
     "state": {
      "_model_module": "@jupyter-widgets/controls",
      "_model_module_version": "1.5.0",
      "_model_name": "ProgressStyleModel",
      "_view_count": null,
      "_view_module": "@jupyter-widgets/base",
      "_view_module_version": "1.2.0",
      "_view_name": "StyleView",
      "bar_color": null,
      "description_width": ""
     }
    },
    "03c6a0c5b67643f6bfc52bb873aebab3": {
     "model_module": "@jupyter-widgets/controls",
     "model_module_version": "1.5.0",
     "model_name": "DescriptionStyleModel",
     "state": {
      "_model_module": "@jupyter-widgets/controls",
      "_model_module_version": "1.5.0",
      "_model_name": "DescriptionStyleModel",
      "_view_count": null,
      "_view_module": "@jupyter-widgets/base",
      "_view_module_version": "1.2.0",
      "_view_name": "StyleView",
      "description_width": ""
     }
    },
    "0b7e31d3a15b4728b1040f8552bf9085": {
     "model_module": "@jupyter-widgets/controls",
     "model_module_version": "1.5.0",
     "model_name": "FloatProgressModel",
     "state": {
      "_dom_classes": [],
      "_model_module": "@jupyter-widgets/controls",
      "_model_module_version": "1.5.0",
      "_model_name": "FloatProgressModel",
      "_view_count": null,
      "_view_module": "@jupyter-widgets/controls",
      "_view_module_version": "1.5.0",
      "_view_name": "ProgressView",
      "bar_style": "success",
      "description": "",
      "description_tooltip": null,
      "layout": "IPY_MODEL_e880f9ee201a4a8ca08a3be033ee31a6",
      "max": 1,
      "min": 0,
      "orientation": "horizontal",
      "style": "IPY_MODEL_f8a306e431ec45f28fd0f6bac6b46025",
      "value": 1
     }
    },
    "0d0458324bee4a5d85f93a3d291f2d5d": {
     "model_module": "@jupyter-widgets/controls",
     "model_module_version": "1.5.0",
     "model_name": "HTMLModel",
     "state": {
      "_dom_classes": [],
      "_model_module": "@jupyter-widgets/controls",
      "_model_module_version": "1.5.0",
      "_model_name": "HTMLModel",
      "_view_count": null,
      "_view_module": "@jupyter-widgets/controls",
      "_view_module_version": "1.5.0",
      "_view_name": "HTMLView",
      "description": "",
      "description_tooltip": null,
      "layout": "IPY_MODEL_dbf2c67695a9462dae1381885b170abd",
      "placeholder": "​",
      "style": "IPY_MODEL_f6ce3eeb69714c73917584e4bffc7f7d",
      "value": "Processing: 100%"
     }
    },
    "0f7b1d789e924ccc8bd1defe55cb90ce": {
     "model_module": "@jupyter-widgets/controls",
     "model_module_version": "1.5.0",
     "model_name": "HTMLModel",
     "state": {
      "_dom_classes": [],
      "_model_module": "@jupyter-widgets/controls",
      "_model_module_version": "1.5.0",
      "_model_name": "HTMLModel",
      "_view_count": null,
      "_view_module": "@jupyter-widgets/controls",
      "_view_module_version": "1.5.0",
      "_view_name": "HTMLView",
      "description": "",
      "description_tooltip": null,
      "layout": "IPY_MODEL_6da37d0aa86c40e7a9622c919230a29e",
      "placeholder": "​",
      "style": "IPY_MODEL_7bf565e873e04fdf9513b446d377169b",
      "value": " 7/7 [27:43&lt;00:00, 178.98s/it]"
     }
    },
    "0fa06b22fc48465cba5564266ba3dffe": {
     "model_module": "@jupyter-widgets/base",
     "model_module_version": "1.2.0",
     "model_name": "LayoutModel",
     "state": {
      "_model_module": "@jupyter-widgets/base",
      "_model_module_version": "1.2.0",
      "_model_name": "LayoutModel",
      "_view_count": null,
      "_view_module": "@jupyter-widgets/base",
      "_view_module_version": "1.2.0",
      "_view_name": "LayoutView",
      "align_content": null,
      "align_items": null,
      "align_self": null,
      "border": null,
      "bottom": null,
      "display": null,
      "flex": null,
      "flex_flow": null,
      "grid_area": null,
      "grid_auto_columns": null,
      "grid_auto_flow": null,
      "grid_auto_rows": null,
      "grid_column": null,
      "grid_gap": null,
      "grid_row": null,
      "grid_template_areas": null,
      "grid_template_columns": null,
      "grid_template_rows": null,
      "height": null,
      "justify_content": null,
      "justify_items": null,
      "left": null,
      "margin": null,
      "max_height": null,
      "max_width": null,
      "min_height": null,
      "min_width": null,
      "object_fit": null,
      "object_position": null,
      "order": null,
      "overflow": null,
      "overflow_x": null,
      "overflow_y": null,
      "padding": null,
      "right": null,
      "top": null,
      "visibility": null,
      "width": null
     }
    },
    "13e43a638f414d32a97a1d4b580c696f": {
     "model_module": "@jupyter-widgets/base",
     "model_module_version": "1.2.0",
     "model_name": "LayoutModel",
     "state": {
      "_model_module": "@jupyter-widgets/base",
      "_model_module_version": "1.2.0",
      "_model_name": "LayoutModel",
      "_view_count": null,
      "_view_module": "@jupyter-widgets/base",
      "_view_module_version": "1.2.0",
      "_view_name": "LayoutView",
      "align_content": null,
      "align_items": null,
      "align_self": null,
      "border": null,
      "bottom": null,
      "display": null,
      "flex": null,
      "flex_flow": null,
      "grid_area": null,
      "grid_auto_columns": null,
      "grid_auto_flow": null,
      "grid_auto_rows": null,
      "grid_column": null,
      "grid_gap": null,
      "grid_row": null,
      "grid_template_areas": null,
      "grid_template_columns": null,
      "grid_template_rows": null,
      "height": null,
      "justify_content": null,
      "justify_items": null,
      "left": null,
      "margin": null,
      "max_height": null,
      "max_width": null,
      "min_height": null,
      "min_width": null,
      "object_fit": null,
      "object_position": null,
      "order": null,
      "overflow": null,
      "overflow_x": null,
      "overflow_y": null,
      "padding": null,
      "right": null,
      "top": null,
      "visibility": null,
      "width": null
     }
    },
    "155cb3f68a2f420db617aefeaac025e4": {
     "model_module": "@jupyter-widgets/base",
     "model_module_version": "1.2.0",
     "model_name": "LayoutModel",
     "state": {
      "_model_module": "@jupyter-widgets/base",
      "_model_module_version": "1.2.0",
      "_model_name": "LayoutModel",
      "_view_count": null,
      "_view_module": "@jupyter-widgets/base",
      "_view_module_version": "1.2.0",
      "_view_name": "LayoutView",
      "align_content": null,
      "align_items": null,
      "align_self": null,
      "border": null,
      "bottom": null,
      "display": null,
      "flex": null,
      "flex_flow": null,
      "grid_area": null,
      "grid_auto_columns": null,
      "grid_auto_flow": null,
      "grid_auto_rows": null,
      "grid_column": null,
      "grid_gap": null,
      "grid_row": null,
      "grid_template_areas": null,
      "grid_template_columns": null,
      "grid_template_rows": null,
      "height": null,
      "justify_content": null,
      "justify_items": null,
      "left": null,
      "margin": null,
      "max_height": null,
      "max_width": null,
      "min_height": null,
      "min_width": null,
      "object_fit": null,
      "object_position": null,
      "order": null,
      "overflow": null,
      "overflow_x": null,
      "overflow_y": null,
      "padding": null,
      "right": null,
      "top": null,
      "visibility": null,
      "width": null
     }
    },
    "15c61f93c03e46c3a625459d00aa53bf": {
     "model_module": "@jupyter-widgets/controls",
     "model_module_version": "1.5.0",
     "model_name": "DescriptionStyleModel",
     "state": {
      "_model_module": "@jupyter-widgets/controls",
      "_model_module_version": "1.5.0",
      "_model_name": "DescriptionStyleModel",
      "_view_count": null,
      "_view_module": "@jupyter-widgets/base",
      "_view_module_version": "1.2.0",
      "_view_name": "StyleView",
      "description_width": ""
     }
    },
    "15cfc9a9b7454eae8c8ac9bb0fd143ab": {
     "model_module": "@jupyter-widgets/controls",
     "model_module_version": "1.5.0",
     "model_name": "DescriptionStyleModel",
     "state": {
      "_model_module": "@jupyter-widgets/controls",
      "_model_module_version": "1.5.0",
      "_model_name": "DescriptionStyleModel",
      "_view_count": null,
      "_view_module": "@jupyter-widgets/base",
      "_view_module_version": "1.2.0",
      "_view_name": "StyleView",
      "description_width": ""
     }
    },
    "1643c2df55bf43519e1fd4228845eb35": {
     "model_module": "@jupyter-widgets/controls",
     "model_module_version": "1.5.0",
     "model_name": "DescriptionStyleModel",
     "state": {
      "_model_module": "@jupyter-widgets/controls",
      "_model_module_version": "1.5.0",
      "_model_name": "DescriptionStyleModel",
      "_view_count": null,
      "_view_module": "@jupyter-widgets/base",
      "_view_module_version": "1.2.0",
      "_view_name": "StyleView",
      "description_width": ""
     }
    },
    "186455de36d94fd2bf07bd3130661a31": {
     "model_module": "@jupyter-widgets/controls",
     "model_module_version": "1.5.0",
     "model_name": "FloatProgressModel",
     "state": {
      "_dom_classes": [],
      "_model_module": "@jupyter-widgets/controls",
      "_model_module_version": "1.5.0",
      "_model_name": "FloatProgressModel",
      "_view_count": null,
      "_view_module": "@jupyter-widgets/controls",
      "_view_module_version": "1.5.0",
      "_view_name": "ProgressView",
      "bar_style": "success",
      "description": "",
      "description_tooltip": null,
      "layout": "IPY_MODEL_5946cc01eb774112b96805ac685ab9cf",
      "max": 1,
      "min": 0,
      "orientation": "horizontal",
      "style": "IPY_MODEL_872086f40b134cc4bb95732415008c09",
      "value": 1
     }
    },
    "20867f3d6cd44a6e9d9f83e23d250843": {
     "model_module": "@jupyter-widgets/controls",
     "model_module_version": "1.5.0",
     "model_name": "HBoxModel",
     "state": {
      "_dom_classes": [],
      "_model_module": "@jupyter-widgets/controls",
      "_model_module_version": "1.5.0",
      "_model_name": "HBoxModel",
      "_view_count": null,
      "_view_module": "@jupyter-widgets/controls",
      "_view_module_version": "1.5.0",
      "_view_name": "HBoxView",
      "box_style": "",
      "children": [
       "IPY_MODEL_308a444f87024be6aa5b07c2fa8a3cd3",
       "IPY_MODEL_8009e788310a4b8bbd8b5d62f7ae1db3",
       "IPY_MODEL_6cb8af7da5a3463f98358f67a43ce22e"
      ],
      "layout": "IPY_MODEL_826549b4b5dc4072a954befc4eee8a48"
     }
    },
    "2408598147364e3d900a0c209e5d2735": {
     "model_module": "@jupyter-widgets/controls",
     "model_module_version": "1.5.0",
     "model_name": "HTMLModel",
     "state": {
      "_dom_classes": [],
      "_model_module": "@jupyter-widgets/controls",
      "_model_module_version": "1.5.0",
      "_model_name": "HTMLModel",
      "_view_count": null,
      "_view_module": "@jupyter-widgets/controls",
      "_view_module_version": "1.5.0",
      "_view_name": "HTMLView",
      "description": "",
      "description_tooltip": null,
      "layout": "IPY_MODEL_2440ba23b8ba49de94495a6f2705af89",
      "placeholder": "​",
      "style": "IPY_MODEL_1643c2df55bf43519e1fd4228845eb35",
      "value": " 65/65 [40:12&lt;00:00,  5.37s/it]"
     }
    },
    "2440ba23b8ba49de94495a6f2705af89": {
     "model_module": "@jupyter-widgets/base",
     "model_module_version": "1.2.0",
     "model_name": "LayoutModel",
     "state": {
      "_model_module": "@jupyter-widgets/base",
      "_model_module_version": "1.2.0",
      "_model_name": "LayoutModel",
      "_view_count": null,
      "_view_module": "@jupyter-widgets/base",
      "_view_module_version": "1.2.0",
      "_view_name": "LayoutView",
      "align_content": null,
      "align_items": null,
      "align_self": null,
      "border": null,
      "bottom": null,
      "display": null,
      "flex": null,
      "flex_flow": null,
      "grid_area": null,
      "grid_auto_columns": null,
      "grid_auto_flow": null,
      "grid_auto_rows": null,
      "grid_column": null,
      "grid_gap": null,
      "grid_row": null,
      "grid_template_areas": null,
      "grid_template_columns": null,
      "grid_template_rows": null,
      "height": null,
      "justify_content": null,
      "justify_items": null,
      "left": null,
      "margin": null,
      "max_height": null,
      "max_width": null,
      "min_height": null,
      "min_width": null,
      "object_fit": null,
      "object_position": null,
      "order": null,
      "overflow": null,
      "overflow_x": null,
      "overflow_y": null,
      "padding": null,
      "right": null,
      "top": null,
      "visibility": null,
      "width": null
     }
    },
    "2652e751bd5b404e88504d04ae40a275": {
     "model_module": "@jupyter-widgets/controls",
     "model_module_version": "1.5.0",
     "model_name": "HTMLModel",
     "state": {
      "_dom_classes": [],
      "_model_module": "@jupyter-widgets/controls",
      "_model_module_version": "1.5.0",
      "_model_name": "HTMLModel",
      "_view_count": null,
      "_view_module": "@jupyter-widgets/controls",
      "_view_module_version": "1.5.0",
      "_view_name": "HTMLView",
      "description": "",
      "description_tooltip": null,
      "layout": "IPY_MODEL_3a648d2a2c5e468796368dfc76d490bb",
      "placeholder": "​",
      "style": "IPY_MODEL_49bbe1c0f8ad417f9faeed48c1d7904e",
      "value": "Processing: 100%"
     }
    },
    "280ebf067dff4311ad9f4c984c45092e": {
     "model_module": "@jupyter-widgets/controls",
     "model_module_version": "1.5.0",
     "model_name": "DescriptionStyleModel",
     "state": {
      "_model_module": "@jupyter-widgets/controls",
      "_model_module_version": "1.5.0",
      "_model_name": "DescriptionStyleModel",
      "_view_count": null,
      "_view_module": "@jupyter-widgets/base",
      "_view_module_version": "1.2.0",
      "_view_name": "StyleView",
      "description_width": ""
     }
    },
    "2d8f2269896344229d277f2c74222450": {
     "model_module": "@jupyter-widgets/base",
     "model_module_version": "1.2.0",
     "model_name": "LayoutModel",
     "state": {
      "_model_module": "@jupyter-widgets/base",
      "_model_module_version": "1.2.0",
      "_model_name": "LayoutModel",
      "_view_count": null,
      "_view_module": "@jupyter-widgets/base",
      "_view_module_version": "1.2.0",
      "_view_name": "LayoutView",
      "align_content": null,
      "align_items": null,
      "align_self": null,
      "border": null,
      "bottom": null,
      "display": null,
      "flex": null,
      "flex_flow": null,
      "grid_area": null,
      "grid_auto_columns": null,
      "grid_auto_flow": null,
      "grid_auto_rows": null,
      "grid_column": null,
      "grid_gap": null,
      "grid_row": null,
      "grid_template_areas": null,
      "grid_template_columns": null,
      "grid_template_rows": null,
      "height": null,
      "justify_content": null,
      "justify_items": null,
      "left": null,
      "margin": null,
      "max_height": null,
      "max_width": null,
      "min_height": null,
      "min_width": null,
      "object_fit": null,
      "object_position": null,
      "order": null,
      "overflow": null,
      "overflow_x": null,
      "overflow_y": null,
      "padding": null,
      "right": null,
      "top": null,
      "visibility": null,
      "width": null
     }
    },
    "2e19454bff454fceab1b39594f2c4d63": {
     "model_module": "@jupyter-widgets/controls",
     "model_module_version": "1.5.0",
     "model_name": "HTMLModel",
     "state": {
      "_dom_classes": [],
      "_model_module": "@jupyter-widgets/controls",
      "_model_module_version": "1.5.0",
      "_model_name": "HTMLModel",
      "_view_count": null,
      "_view_module": "@jupyter-widgets/controls",
      "_view_module_version": "1.5.0",
      "_view_name": "HTMLView",
      "description": "",
      "description_tooltip": null,
      "layout": "IPY_MODEL_4a942c8cde364f21a284ed128209d607",
      "placeholder": "​",
      "style": "IPY_MODEL_31a216faab324af89abc37653c0cb646",
      "value": " 1/1 [00:17&lt;00:00, 17.25s/it]"
     }
    },
    "308a444f87024be6aa5b07c2fa8a3cd3": {
     "model_module": "@jupyter-widgets/controls",
     "model_module_version": "1.5.0",
     "model_name": "HTMLModel",
     "state": {
      "_dom_classes": [],
      "_model_module": "@jupyter-widgets/controls",
      "_model_module_version": "1.5.0",
      "_model_name": "HTMLModel",
      "_view_count": null,
      "_view_module": "@jupyter-widgets/controls",
      "_view_module_version": "1.5.0",
      "_view_name": "HTMLView",
      "description": "",
      "description_tooltip": null,
      "layout": "IPY_MODEL_cf11eeb87383425f8536ad519086b617",
      "placeholder": "​",
      "style": "IPY_MODEL_98e2d703ce40423ab5cbceee9268f270",
      "value": "Summarize dataset: 100%"
     }
    },
    "30a34dcf8b684b2a9b477d8c23558c71": {
     "model_module": "@jupyter-widgets/base",
     "model_module_version": "1.2.0",
     "model_name": "LayoutModel",
     "state": {
      "_model_module": "@jupyter-widgets/base",
      "_model_module_version": "1.2.0",
      "_model_name": "LayoutModel",
      "_view_count": null,
      "_view_module": "@jupyter-widgets/base",
      "_view_module_version": "1.2.0",
      "_view_name": "LayoutView",
      "align_content": null,
      "align_items": null,
      "align_self": null,
      "border": null,
      "bottom": null,
      "display": null,
      "flex": null,
      "flex_flow": null,
      "grid_area": null,
      "grid_auto_columns": null,
      "grid_auto_flow": null,
      "grid_auto_rows": null,
      "grid_column": null,
      "grid_gap": null,
      "grid_row": null,
      "grid_template_areas": null,
      "grid_template_columns": null,
      "grid_template_rows": null,
      "height": null,
      "justify_content": null,
      "justify_items": null,
      "left": null,
      "margin": null,
      "max_height": null,
      "max_width": null,
      "min_height": null,
      "min_width": null,
      "object_fit": null,
      "object_position": null,
      "order": null,
      "overflow": null,
      "overflow_x": null,
      "overflow_y": null,
      "padding": null,
      "right": null,
      "top": null,
      "visibility": null,
      "width": null
     }
    },
    "30d33fca0e3645a3870195283bd674db": {
     "model_module": "@jupyter-widgets/controls",
     "model_module_version": "1.5.0",
     "model_name": "HTMLModel",
     "state": {
      "_dom_classes": [],
      "_model_module": "@jupyter-widgets/controls",
      "_model_module_version": "1.5.0",
      "_model_name": "HTMLModel",
      "_view_count": null,
      "_view_module": "@jupyter-widgets/controls",
      "_view_module_version": "1.5.0",
      "_view_name": "HTMLView",
      "description": "",
      "description_tooltip": null,
      "layout": "IPY_MODEL_2d8f2269896344229d277f2c74222450",
      "placeholder": "​",
      "style": "IPY_MODEL_bc5f49757047499eb1dea8f947813016",
      "value": " 65/65 [05:59&lt;00:00,  2.56s/it]"
     }
    },
    "31a216faab324af89abc37653c0cb646": {
     "model_module": "@jupyter-widgets/controls",
     "model_module_version": "1.5.0",
     "model_name": "DescriptionStyleModel",
     "state": {
      "_model_module": "@jupyter-widgets/controls",
      "_model_module_version": "1.5.0",
      "_model_name": "DescriptionStyleModel",
      "_view_count": null,
      "_view_module": "@jupyter-widgets/base",
      "_view_module_version": "1.2.0",
      "_view_name": "StyleView",
      "description_width": ""
     }
    },
    "37812df359354db8ab2f000534cd3da3": {
     "model_module": "@jupyter-widgets/controls",
     "model_module_version": "1.5.0",
     "model_name": "FloatProgressModel",
     "state": {
      "_dom_classes": [],
      "_model_module": "@jupyter-widgets/controls",
      "_model_module_version": "1.5.0",
      "_model_name": "FloatProgressModel",
      "_view_count": null,
      "_view_module": "@jupyter-widgets/controls",
      "_view_module_version": "1.5.0",
      "_view_name": "ProgressView",
      "bar_style": "",
      "description": "",
      "description_tooltip": null,
      "layout": "IPY_MODEL_af14e1357ece43dca9a51521f26bef5e",
      "max": 65,
      "min": 0,
      "orientation": "horizontal",
      "style": "IPY_MODEL_c294d556cbf4410baeaac4a42bd28fef",
      "value": 65
     }
    },
    "3a648d2a2c5e468796368dfc76d490bb": {
     "model_module": "@jupyter-widgets/base",
     "model_module_version": "1.2.0",
     "model_name": "LayoutModel",
     "state": {
      "_model_module": "@jupyter-widgets/base",
      "_model_module_version": "1.2.0",
      "_model_name": "LayoutModel",
      "_view_count": null,
      "_view_module": "@jupyter-widgets/base",
      "_view_module_version": "1.2.0",
      "_view_name": "LayoutView",
      "align_content": null,
      "align_items": null,
      "align_self": null,
      "border": null,
      "bottom": null,
      "display": null,
      "flex": null,
      "flex_flow": null,
      "grid_area": null,
      "grid_auto_columns": null,
      "grid_auto_flow": null,
      "grid_auto_rows": null,
      "grid_column": null,
      "grid_gap": null,
      "grid_row": null,
      "grid_template_areas": null,
      "grid_template_columns": null,
      "grid_template_rows": null,
      "height": null,
      "justify_content": null,
      "justify_items": null,
      "left": null,
      "margin": null,
      "max_height": null,
      "max_width": null,
      "min_height": null,
      "min_width": null,
      "object_fit": null,
      "object_position": null,
      "order": null,
      "overflow": null,
      "overflow_x": null,
      "overflow_y": null,
      "padding": null,
      "right": null,
      "top": null,
      "visibility": null,
      "width": null
     }
    },
    "3c3496722163471190b4169c1ca997c1": {
     "model_module": "@jupyter-widgets/controls",
     "model_module_version": "1.5.0",
     "model_name": "FloatProgressModel",
     "state": {
      "_dom_classes": [],
      "_model_module": "@jupyter-widgets/controls",
      "_model_module_version": "1.5.0",
      "_model_name": "FloatProgressModel",
      "_view_count": null,
      "_view_module": "@jupyter-widgets/controls",
      "_view_module_version": "1.5.0",
      "_view_name": "ProgressView",
      "bar_style": "success",
      "description": "",
      "description_tooltip": null,
      "layout": "IPY_MODEL_155cb3f68a2f420db617aefeaac025e4",
      "max": 1,
      "min": 0,
      "orientation": "horizontal",
      "style": "IPY_MODEL_c43318f3bf1a41eabd1ae765a34f0bb2",
      "value": 1
     }
    },
    "3d709d6a12664375aff6d310de45d25e": {
     "model_module": "@jupyter-widgets/controls",
     "model_module_version": "1.5.0",
     "model_name": "DescriptionStyleModel",
     "state": {
      "_model_module": "@jupyter-widgets/controls",
      "_model_module_version": "1.5.0",
      "_model_name": "DescriptionStyleModel",
      "_view_count": null,
      "_view_module": "@jupyter-widgets/base",
      "_view_module_version": "1.2.0",
      "_view_name": "StyleView",
      "description_width": ""
     }
    },
    "41cb8b2a697b4d39acd0e1a7e3ead6bf": {
     "model_module": "@jupyter-widgets/controls",
     "model_module_version": "1.5.0",
     "model_name": "DescriptionStyleModel",
     "state": {
      "_model_module": "@jupyter-widgets/controls",
      "_model_module_version": "1.5.0",
      "_model_name": "DescriptionStyleModel",
      "_view_count": null,
      "_view_module": "@jupyter-widgets/base",
      "_view_module_version": "1.2.0",
      "_view_name": "StyleView",
      "description_width": ""
     }
    },
    "4568e0455dd84af7b1b239016b6669cd": {
     "model_module": "@jupyter-widgets/controls",
     "model_module_version": "1.5.0",
     "model_name": "HBoxModel",
     "state": {
      "_dom_classes": [],
      "_model_module": "@jupyter-widgets/controls",
      "_model_module_version": "1.5.0",
      "_model_name": "HBoxModel",
      "_view_count": null,
      "_view_module": "@jupyter-widgets/controls",
      "_view_module_version": "1.5.0",
      "_view_name": "HBoxView",
      "box_style": "",
      "children": [
       "IPY_MODEL_f78e1414c9f54ee1905a3fcb4d3e5aa9",
       "IPY_MODEL_186455de36d94fd2bf07bd3130661a31",
       "IPY_MODEL_508bb40a6f754d00ac75c3953896fc71"
      ],
      "layout": "IPY_MODEL_62a13f73d5f04425b616c9ded4dfa316"
     }
    },
    "45a24db6d0c94b3fb6bba04d3969b994": {
     "model_module": "@jupyter-widgets/controls",
     "model_module_version": "1.5.0",
     "model_name": "HTMLModel",
     "state": {
      "_dom_classes": [],
      "_model_module": "@jupyter-widgets/controls",
      "_model_module_version": "1.5.0",
      "_model_name": "HTMLModel",
      "_view_count": null,
      "_view_module": "@jupyter-widgets/controls",
      "_view_module_version": "1.5.0",
      "_view_name": "HTMLView",
      "description": "",
      "description_tooltip": null,
      "layout": "IPY_MODEL_d896e269271d499c9aaea2549cdaa735",
      "placeholder": "​",
      "style": "IPY_MODEL_99c8e2d64a774dcc90317f056b0f5739",
      "value": " 65/65 [40:33&lt;00:00,  5.42s/it]"
     }
    },
    "49bbe1c0f8ad417f9faeed48c1d7904e": {
     "model_module": "@jupyter-widgets/controls",
     "model_module_version": "1.5.0",
     "model_name": "DescriptionStyleModel",
     "state": {
      "_model_module": "@jupyter-widgets/controls",
      "_model_module_version": "1.5.0",
      "_model_name": "DescriptionStyleModel",
      "_view_count": null,
      "_view_module": "@jupyter-widgets/base",
      "_view_module_version": "1.2.0",
      "_view_name": "StyleView",
      "description_width": ""
     }
    },
    "4a942c8cde364f21a284ed128209d607": {
     "model_module": "@jupyter-widgets/base",
     "model_module_version": "1.2.0",
     "model_name": "LayoutModel",
     "state": {
      "_model_module": "@jupyter-widgets/base",
      "_model_module_version": "1.2.0",
      "_model_name": "LayoutModel",
      "_view_count": null,
      "_view_module": "@jupyter-widgets/base",
      "_view_module_version": "1.2.0",
      "_view_name": "LayoutView",
      "align_content": null,
      "align_items": null,
      "align_self": null,
      "border": null,
      "bottom": null,
      "display": null,
      "flex": null,
      "flex_flow": null,
      "grid_area": null,
      "grid_auto_columns": null,
      "grid_auto_flow": null,
      "grid_auto_rows": null,
      "grid_column": null,
      "grid_gap": null,
      "grid_row": null,
      "grid_template_areas": null,
      "grid_template_columns": null,
      "grid_template_rows": null,
      "height": null,
      "justify_content": null,
      "justify_items": null,
      "left": null,
      "margin": null,
      "max_height": null,
      "max_width": null,
      "min_height": null,
      "min_width": null,
      "object_fit": null,
      "object_position": null,
      "order": null,
      "overflow": null,
      "overflow_x": null,
      "overflow_y": null,
      "padding": null,
      "right": null,
      "top": null,
      "visibility": null,
      "width": null
     }
    },
    "4c2edb6914394a719d3b49b1ab525a7b": {
     "model_module": "@jupyter-widgets/controls",
     "model_module_version": "1.5.0",
     "model_name": "HTMLModel",
     "state": {
      "_dom_classes": [],
      "_model_module": "@jupyter-widgets/controls",
      "_model_module_version": "1.5.0",
      "_model_name": "HTMLModel",
      "_view_count": null,
      "_view_module": "@jupyter-widgets/controls",
      "_view_module_version": "1.5.0",
      "_view_name": "HTMLView",
      "description": "",
      "description_tooltip": null,
      "layout": "IPY_MODEL_64e5439caba241d1b184e4e1452461da",
      "placeholder": "​",
      "style": "IPY_MODEL_ba2d89abf20a4cc28f7e2fc56b2ad7dd",
      "value": "Processing: 100%"
     }
    },
    "508bb40a6f754d00ac75c3953896fc71": {
     "model_module": "@jupyter-widgets/controls",
     "model_module_version": "1.5.0",
     "model_name": "HTMLModel",
     "state": {
      "_dom_classes": [],
      "_model_module": "@jupyter-widgets/controls",
      "_model_module_version": "1.5.0",
      "_model_name": "HTMLModel",
      "_view_count": null,
      "_view_module": "@jupyter-widgets/controls",
      "_view_module_version": "1.5.0",
      "_view_name": "HTMLView",
      "description": "",
      "description_tooltip": null,
      "layout": "IPY_MODEL_d0fd27d2e46f4ab7b377278d7fa201d5",
      "placeholder": "​",
      "style": "IPY_MODEL_95d1df6e3b7c4b8f97052c7836e65d62",
      "value": " 1/1 [00:00&lt;00:00,  8.57it/s]"
     }
    },
    "515cf352607e4caea5f6d96022d3fcc4": {
     "model_module": "@jupyter-widgets/controls",
     "model_module_version": "1.5.0",
     "model_name": "HTMLModel",
     "state": {
      "_dom_classes": [],
      "_model_module": "@jupyter-widgets/controls",
      "_model_module_version": "1.5.0",
      "_model_name": "HTMLModel",
      "_view_count": null,
      "_view_module": "@jupyter-widgets/controls",
      "_view_module_version": "1.5.0",
      "_view_name": "HTMLView",
      "description": "",
      "description_tooltip": null,
      "layout": "IPY_MODEL_7848d1af04e74487898c52b240804bd9",
      "placeholder": "​",
      "style": "IPY_MODEL_280ebf067dff4311ad9f4c984c45092e",
      "value": " 65/65 [06:02&lt;00:00,  2.62s/it]"
     }
    },
    "523f0ee170a649ed9881239fdd2cfc22": {
     "model_module": "@jupyter-widgets/base",
     "model_module_version": "1.2.0",
     "model_name": "LayoutModel",
     "state": {
      "_model_module": "@jupyter-widgets/base",
      "_model_module_version": "1.2.0",
      "_model_name": "LayoutModel",
      "_view_count": null,
      "_view_module": "@jupyter-widgets/base",
      "_view_module_version": "1.2.0",
      "_view_name": "LayoutView",
      "align_content": null,
      "align_items": null,
      "align_self": null,
      "border": null,
      "bottom": null,
      "display": null,
      "flex": null,
      "flex_flow": null,
      "grid_area": null,
      "grid_auto_columns": null,
      "grid_auto_flow": null,
      "grid_auto_rows": null,
      "grid_column": null,
      "grid_gap": null,
      "grid_row": null,
      "grid_template_areas": null,
      "grid_template_columns": null,
      "grid_template_rows": null,
      "height": null,
      "justify_content": null,
      "justify_items": null,
      "left": null,
      "margin": null,
      "max_height": null,
      "max_width": null,
      "min_height": null,
      "min_width": null,
      "object_fit": null,
      "object_position": null,
      "order": null,
      "overflow": null,
      "overflow_x": null,
      "overflow_y": null,
      "padding": null,
      "right": null,
      "top": null,
      "visibility": null,
      "width": null
     }
    },
    "561215826000421fae1c5189b48214bb": {
     "model_module": "@jupyter-widgets/base",
     "model_module_version": "1.2.0",
     "model_name": "LayoutModel",
     "state": {
      "_model_module": "@jupyter-widgets/base",
      "_model_module_version": "1.2.0",
      "_model_name": "LayoutModel",
      "_view_count": null,
      "_view_module": "@jupyter-widgets/base",
      "_view_module_version": "1.2.0",
      "_view_name": "LayoutView",
      "align_content": null,
      "align_items": null,
      "align_self": null,
      "border": null,
      "bottom": null,
      "display": null,
      "flex": null,
      "flex_flow": null,
      "grid_area": null,
      "grid_auto_columns": null,
      "grid_auto_flow": null,
      "grid_auto_rows": null,
      "grid_column": null,
      "grid_gap": null,
      "grid_row": null,
      "grid_template_areas": null,
      "grid_template_columns": null,
      "grid_template_rows": null,
      "height": null,
      "justify_content": null,
      "justify_items": null,
      "left": null,
      "margin": null,
      "max_height": null,
      "max_width": null,
      "min_height": null,
      "min_width": null,
      "object_fit": null,
      "object_position": null,
      "order": null,
      "overflow": null,
      "overflow_x": null,
      "overflow_y": null,
      "padding": null,
      "right": null,
      "top": null,
      "visibility": null,
      "width": null
     }
    },
    "56da78806db44a42a32021f398165421": {
     "model_module": "@jupyter-widgets/controls",
     "model_module_version": "1.5.0",
     "model_name": "HBoxModel",
     "state": {
      "_dom_classes": [],
      "_model_module": "@jupyter-widgets/controls",
      "_model_module_version": "1.5.0",
      "_model_name": "HBoxModel",
      "_view_count": null,
      "_view_module": "@jupyter-widgets/controls",
      "_view_module_version": "1.5.0",
      "_view_name": "HBoxView",
      "box_style": "",
      "children": [
       "IPY_MODEL_ff87b0cf0ab64488aa5caff4fae23196",
       "IPY_MODEL_0b7e31d3a15b4728b1040f8552bf9085",
       "IPY_MODEL_2e19454bff454fceab1b39594f2c4d63"
      ],
      "layout": "IPY_MODEL_e1cf1d52eee740dd8f7becfcb2fad697"
     }
    },
    "579f4859792449329c5e94aeb8601451": {
     "model_module": "@jupyter-widgets/controls",
     "model_module_version": "1.5.0",
     "model_name": "ToggleButtonsModel",
     "state": {
      "_dom_classes": [],
      "_model_module": "@jupyter-widgets/controls",
      "_model_module_version": "1.5.0",
      "_model_name": "ToggleButtonsModel",
      "_options_labels": [
       "Pipeline Plot",
       "Hyperparameters",
       "AUC",
       "Confusion Matrix",
       "Threshold",
       "Precision Recall",
       "Prediction Error",
       "Class Report",
       "Feature Selection",
       "Learning Curve",
       "Manifold Learning",
       "Calibration Curve",
       "Validation Curve",
       "Dimensions",
       "Feature Importance",
       "Feature Importance (All)",
       "Decision Boundary",
       "Lift Chart",
       "Gain Chart",
       "Decision Tree",
       "KS Statistic Plot"
      ],
      "_view_count": null,
      "_view_module": "@jupyter-widgets/controls",
      "_view_module_version": "1.5.0",
      "_view_name": "ToggleButtonsView",
      "button_style": "",
      "description": "Plot Type:",
      "description_tooltip": null,
      "disabled": false,
      "icons": [
       ""
      ],
      "index": 0,
      "layout": "IPY_MODEL_30a34dcf8b684b2a9b477d8c23558c71",
      "style": "IPY_MODEL_e8ad7da6d0de4ab49e8949b7ce2d6b8d",
      "tooltips": []
     }
    },
    "5946cc01eb774112b96805ac685ab9cf": {
     "model_module": "@jupyter-widgets/base",
     "model_module_version": "1.2.0",
     "model_name": "LayoutModel",
     "state": {
      "_model_module": "@jupyter-widgets/base",
      "_model_module_version": "1.2.0",
      "_model_name": "LayoutModel",
      "_view_count": null,
      "_view_module": "@jupyter-widgets/base",
      "_view_module_version": "1.2.0",
      "_view_name": "LayoutView",
      "align_content": null,
      "align_items": null,
      "align_self": null,
      "border": null,
      "bottom": null,
      "display": null,
      "flex": null,
      "flex_flow": null,
      "grid_area": null,
      "grid_auto_columns": null,
      "grid_auto_flow": null,
      "grid_auto_rows": null,
      "grid_column": null,
      "grid_gap": null,
      "grid_row": null,
      "grid_template_areas": null,
      "grid_template_columns": null,
      "grid_template_rows": null,
      "height": null,
      "justify_content": null,
      "justify_items": null,
      "left": null,
      "margin": null,
      "max_height": null,
      "max_width": null,
      "min_height": null,
      "min_width": null,
      "object_fit": null,
      "object_position": null,
      "order": null,
      "overflow": null,
      "overflow_x": null,
      "overflow_y": null,
      "padding": null,
      "right": null,
      "top": null,
      "visibility": null,
      "width": null
     }
    },
    "5ec91acff4734ef7b5c417596b6607d3": {
     "model_module": "@jupyter-widgets/base",
     "model_module_version": "1.2.0",
     "model_name": "LayoutModel",
     "state": {
      "_model_module": "@jupyter-widgets/base",
      "_model_module_version": "1.2.0",
      "_model_name": "LayoutModel",
      "_view_count": null,
      "_view_module": "@jupyter-widgets/base",
      "_view_module_version": "1.2.0",
      "_view_name": "LayoutView",
      "align_content": null,
      "align_items": null,
      "align_self": null,
      "border": null,
      "bottom": null,
      "display": null,
      "flex": null,
      "flex_flow": null,
      "grid_area": null,
      "grid_auto_columns": null,
      "grid_auto_flow": null,
      "grid_auto_rows": null,
      "grid_column": null,
      "grid_gap": null,
      "grid_row": null,
      "grid_template_areas": null,
      "grid_template_columns": null,
      "grid_template_rows": null,
      "height": null,
      "justify_content": null,
      "justify_items": null,
      "left": null,
      "margin": null,
      "max_height": null,
      "max_width": null,
      "min_height": null,
      "min_width": null,
      "object_fit": null,
      "object_position": null,
      "order": null,
      "overflow": null,
      "overflow_x": null,
      "overflow_y": null,
      "padding": null,
      "right": null,
      "top": null,
      "visibility": null,
      "width": null
     }
    },
    "62a13f73d5f04425b616c9ded4dfa316": {
     "model_module": "@jupyter-widgets/base",
     "model_module_version": "1.2.0",
     "model_name": "LayoutModel",
     "state": {
      "_model_module": "@jupyter-widgets/base",
      "_model_module_version": "1.2.0",
      "_model_name": "LayoutModel",
      "_view_count": null,
      "_view_module": "@jupyter-widgets/base",
      "_view_module_version": "1.2.0",
      "_view_name": "LayoutView",
      "align_content": null,
      "align_items": null,
      "align_self": null,
      "border": null,
      "bottom": null,
      "display": null,
      "flex": null,
      "flex_flow": null,
      "grid_area": null,
      "grid_auto_columns": null,
      "grid_auto_flow": null,
      "grid_auto_rows": null,
      "grid_column": null,
      "grid_gap": null,
      "grid_row": null,
      "grid_template_areas": null,
      "grid_template_columns": null,
      "grid_template_rows": null,
      "height": null,
      "justify_content": null,
      "justify_items": null,
      "left": null,
      "margin": null,
      "max_height": null,
      "max_width": null,
      "min_height": null,
      "min_width": null,
      "object_fit": null,
      "object_position": null,
      "order": null,
      "overflow": null,
      "overflow_x": null,
      "overflow_y": null,
      "padding": null,
      "right": null,
      "top": null,
      "visibility": null,
      "width": null
     }
    },
    "64e5439caba241d1b184e4e1452461da": {
     "model_module": "@jupyter-widgets/base",
     "model_module_version": "1.2.0",
     "model_name": "LayoutModel",
     "state": {
      "_model_module": "@jupyter-widgets/base",
      "_model_module_version": "1.2.0",
      "_model_name": "LayoutModel",
      "_view_count": null,
      "_view_module": "@jupyter-widgets/base",
      "_view_module_version": "1.2.0",
      "_view_name": "LayoutView",
      "align_content": null,
      "align_items": null,
      "align_self": null,
      "border": null,
      "bottom": null,
      "display": null,
      "flex": null,
      "flex_flow": null,
      "grid_area": null,
      "grid_auto_columns": null,
      "grid_auto_flow": null,
      "grid_auto_rows": null,
      "grid_column": null,
      "grid_gap": null,
      "grid_row": null,
      "grid_template_areas": null,
      "grid_template_columns": null,
      "grid_template_rows": null,
      "height": null,
      "justify_content": null,
      "justify_items": null,
      "left": null,
      "margin": null,
      "max_height": null,
      "max_width": null,
      "min_height": null,
      "min_width": null,
      "object_fit": null,
      "object_position": null,
      "order": null,
      "overflow": null,
      "overflow_x": null,
      "overflow_y": null,
      "padding": null,
      "right": null,
      "top": null,
      "visibility": null,
      "width": null
     }
    },
    "660c16d27e0040259b0a5fc51dcaa477": {
     "model_module": "@jupyter-widgets/base",
     "model_module_version": "1.2.0",
     "model_name": "LayoutModel",
     "state": {
      "_model_module": "@jupyter-widgets/base",
      "_model_module_version": "1.2.0",
      "_model_name": "LayoutModel",
      "_view_count": null,
      "_view_module": "@jupyter-widgets/base",
      "_view_module_version": "1.2.0",
      "_view_name": "LayoutView",
      "align_content": null,
      "align_items": null,
      "align_self": null,
      "border": null,
      "bottom": null,
      "display": null,
      "flex": null,
      "flex_flow": null,
      "grid_area": null,
      "grid_auto_columns": null,
      "grid_auto_flow": null,
      "grid_auto_rows": null,
      "grid_column": null,
      "grid_gap": null,
      "grid_row": null,
      "grid_template_areas": null,
      "grid_template_columns": null,
      "grid_template_rows": null,
      "height": null,
      "justify_content": null,
      "justify_items": null,
      "left": null,
      "margin": null,
      "max_height": null,
      "max_width": null,
      "min_height": null,
      "min_width": null,
      "object_fit": null,
      "object_position": null,
      "order": null,
      "overflow": null,
      "overflow_x": null,
      "overflow_y": null,
      "padding": null,
      "right": null,
      "top": null,
      "visibility": null,
      "width": null
     }
    },
    "6638af9a425e46f999000288d4a4508b": {
     "model_module": "@jupyter-widgets/base",
     "model_module_version": "1.2.0",
     "model_name": "LayoutModel",
     "state": {
      "_model_module": "@jupyter-widgets/base",
      "_model_module_version": "1.2.0",
      "_model_name": "LayoutModel",
      "_view_count": null,
      "_view_module": "@jupyter-widgets/base",
      "_view_module_version": "1.2.0",
      "_view_name": "LayoutView",
      "align_content": null,
      "align_items": null,
      "align_self": null,
      "border": null,
      "bottom": null,
      "display": null,
      "flex": null,
      "flex_flow": null,
      "grid_area": null,
      "grid_auto_columns": null,
      "grid_auto_flow": null,
      "grid_auto_rows": null,
      "grid_column": null,
      "grid_gap": null,
      "grid_row": null,
      "grid_template_areas": null,
      "grid_template_columns": null,
      "grid_template_rows": null,
      "height": null,
      "justify_content": null,
      "justify_items": null,
      "left": null,
      "margin": null,
      "max_height": null,
      "max_width": null,
      "min_height": null,
      "min_width": null,
      "object_fit": null,
      "object_position": null,
      "order": null,
      "overflow": null,
      "overflow_x": null,
      "overflow_y": null,
      "padding": null,
      "right": null,
      "top": null,
      "visibility": null,
      "width": null
     }
    },
    "67bf02d146c443daba6eca0f80b3d5e4": {
     "model_module": "@jupyter-widgets/controls",
     "model_module_version": "1.5.0",
     "model_name": "HBoxModel",
     "state": {
      "_dom_classes": [],
      "_model_module": "@jupyter-widgets/controls",
      "_model_module_version": "1.5.0",
      "_model_name": "HBoxModel",
      "_view_count": null,
      "_view_module": "@jupyter-widgets/controls",
      "_view_module_version": "1.5.0",
      "_view_name": "HBoxView",
      "box_style": "",
      "children": [
       "IPY_MODEL_4c2edb6914394a719d3b49b1ab525a7b",
       "IPY_MODEL_8a3ac2d4406d4f7da24fc4adf1790488",
       "IPY_MODEL_0f7b1d789e924ccc8bd1defe55cb90ce"
      ],
      "layout": "IPY_MODEL_93f1e736e0504104ba4ad5a7ffbd57de"
     }
    },
    "69152a7f4fff421a9798a7d6291bda85": {
     "model_module": "@jupyter-widgets/controls",
     "model_module_version": "1.5.0",
     "model_name": "DescriptionStyleModel",
     "state": {
      "_model_module": "@jupyter-widgets/controls",
      "_model_module_version": "1.5.0",
      "_model_name": "DescriptionStyleModel",
      "_view_count": null,
      "_view_module": "@jupyter-widgets/base",
      "_view_module_version": "1.2.0",
      "_view_name": "StyleView",
      "description_width": ""
     }
    },
    "6b7c97c8bf7c4cfbbf37bd4d83ebb031": {
     "model_module": "@jupyter-widgets/output",
     "model_module_version": "1.0.0",
     "model_name": "OutputModel",
     "state": {
      "_dom_classes": [],
      "_model_module": "@jupyter-widgets/output",
      "_model_module_version": "1.0.0",
      "_model_name": "OutputModel",
      "_view_count": null,
      "_view_module": "@jupyter-widgets/output",
      "_view_module_version": "1.0.0",
      "_view_name": "OutputView",
      "layout": "IPY_MODEL_bf274d9221da4064bf5bdd73af3c0571",
      "msg_id": "",
      "outputs": [
       {
        "data": {
         "image/png": "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\n",
         "text/plain": "<Figure size 1700x600 with 1 Axes>"
        },
        "metadata": {},
        "output_type": "display_data"
       }
      ]
     }
    },
    "6cb8af7da5a3463f98358f67a43ce22e": {
     "model_module": "@jupyter-widgets/controls",
     "model_module_version": "1.5.0",
     "model_name": "HTMLModel",
     "state": {
      "_dom_classes": [],
      "_model_module": "@jupyter-widgets/controls",
      "_model_module_version": "1.5.0",
      "_model_name": "HTMLModel",
      "_view_count": null,
      "_view_module": "@jupyter-widgets/controls",
      "_view_module_version": "1.5.0",
      "_view_name": "HTMLView",
      "description": "",
      "description_tooltip": null,
      "layout": "IPY_MODEL_e140543e8a0643d09c6586ea4352b513",
      "placeholder": "​",
      "style": "IPY_MODEL_7081a95e418e4d2291cbbce1e75e0029",
      "value": " 713/713 [02:03&lt;00:00,  2.88it/s, Completed]"
     }
    },
    "6d1a3ebe2fcd44bb93c6ebef530294c8": {
     "model_module": "@jupyter-widgets/controls",
     "model_module_version": "1.5.0",
     "model_name": "ProgressStyleModel",
     "state": {
      "_model_module": "@jupyter-widgets/controls",
      "_model_module_version": "1.5.0",
      "_model_name": "ProgressStyleModel",
      "_view_count": null,
      "_view_module": "@jupyter-widgets/base",
      "_view_module_version": "1.2.0",
      "_view_name": "StyleView",
      "bar_color": null,
      "description_width": ""
     }
    },
    "6da37d0aa86c40e7a9622c919230a29e": {
     "model_module": "@jupyter-widgets/base",
     "model_module_version": "1.2.0",
     "model_name": "LayoutModel",
     "state": {
      "_model_module": "@jupyter-widgets/base",
      "_model_module_version": "1.2.0",
      "_model_name": "LayoutModel",
      "_view_count": null,
      "_view_module": "@jupyter-widgets/base",
      "_view_module_version": "1.2.0",
      "_view_name": "LayoutView",
      "align_content": null,
      "align_items": null,
      "align_self": null,
      "border": null,
      "bottom": null,
      "display": null,
      "flex": null,
      "flex_flow": null,
      "grid_area": null,
      "grid_auto_columns": null,
      "grid_auto_flow": null,
      "grid_auto_rows": null,
      "grid_column": null,
      "grid_gap": null,
      "grid_row": null,
      "grid_template_areas": null,
      "grid_template_columns": null,
      "grid_template_rows": null,
      "height": null,
      "justify_content": null,
      "justify_items": null,
      "left": null,
      "margin": null,
      "max_height": null,
      "max_width": null,
      "min_height": null,
      "min_width": null,
      "object_fit": null,
      "object_position": null,
      "order": null,
      "overflow": null,
      "overflow_x": null,
      "overflow_y": null,
      "padding": null,
      "right": null,
      "top": null,
      "visibility": null,
      "width": null
     }
    },
    "6e0df12808dc4a30b3e40142a138dc84": {
     "model_module": "@jupyter-widgets/base",
     "model_module_version": "1.2.0",
     "model_name": "LayoutModel",
     "state": {
      "_model_module": "@jupyter-widgets/base",
      "_model_module_version": "1.2.0",
      "_model_name": "LayoutModel",
      "_view_count": null,
      "_view_module": "@jupyter-widgets/base",
      "_view_module_version": "1.2.0",
      "_view_name": "LayoutView",
      "align_content": null,
      "align_items": null,
      "align_self": null,
      "border": null,
      "bottom": null,
      "display": null,
      "flex": null,
      "flex_flow": null,
      "grid_area": null,
      "grid_auto_columns": null,
      "grid_auto_flow": null,
      "grid_auto_rows": null,
      "grid_column": null,
      "grid_gap": null,
      "grid_row": null,
      "grid_template_areas": null,
      "grid_template_columns": null,
      "grid_template_rows": null,
      "height": null,
      "justify_content": null,
      "justify_items": null,
      "left": null,
      "margin": null,
      "max_height": null,
      "max_width": null,
      "min_height": null,
      "min_width": null,
      "object_fit": null,
      "object_position": null,
      "order": null,
      "overflow": null,
      "overflow_x": null,
      "overflow_y": null,
      "padding": null,
      "right": null,
      "top": null,
      "visibility": "hidden",
      "width": null
     }
    },
    "7081a95e418e4d2291cbbce1e75e0029": {
     "model_module": "@jupyter-widgets/controls",
     "model_module_version": "1.5.0",
     "model_name": "DescriptionStyleModel",
     "state": {
      "_model_module": "@jupyter-widgets/controls",
      "_model_module_version": "1.5.0",
      "_model_name": "DescriptionStyleModel",
      "_view_count": null,
      "_view_module": "@jupyter-widgets/base",
      "_view_module_version": "1.2.0",
      "_view_name": "StyleView",
      "description_width": ""
     }
    },
    "71cec0e6e1a844ada17af0e835796367": {
     "model_module": "@jupyter-widgets/controls",
     "model_module_version": "1.5.0",
     "model_name": "VBoxModel",
     "state": {
      "_dom_classes": [
       "widget-interact"
      ],
      "_model_module": "@jupyter-widgets/controls",
      "_model_module_version": "1.5.0",
      "_model_name": "VBoxModel",
      "_view_count": null,
      "_view_module": "@jupyter-widgets/controls",
      "_view_module_version": "1.5.0",
      "_view_name": "VBoxView",
      "box_style": "",
      "children": [
       "IPY_MODEL_579f4859792449329c5e94aeb8601451",
       "IPY_MODEL_6b7c97c8bf7c4cfbbf37bd4d83ebb031"
      ],
      "layout": "IPY_MODEL_0fa06b22fc48465cba5564266ba3dffe"
     }
    },
    "73d9ae705ec545ff9d2c8181862ef22f": {
     "model_module": "@jupyter-widgets/controls",
     "model_module_version": "1.5.0",
     "model_name": "HBoxModel",
     "state": {
      "_dom_classes": [],
      "_model_module": "@jupyter-widgets/controls",
      "_model_module_version": "1.5.0",
      "_model_name": "HBoxModel",
      "_view_count": null,
      "_view_module": "@jupyter-widgets/controls",
      "_view_module_version": "1.5.0",
      "_view_name": "HBoxView",
      "box_style": "",
      "children": [
       "IPY_MODEL_b6c9878d5d2b456fa806e409679a6761",
       "IPY_MODEL_3c3496722163471190b4169c1ca997c1",
       "IPY_MODEL_df58b197a5fe4f2b9d46ff1973798da9"
      ],
      "layout": "IPY_MODEL_a7b7a0a8df664ae5a634f1b9977e3335"
     }
    },
    "7848d1af04e74487898c52b240804bd9": {
     "model_module": "@jupyter-widgets/base",
     "model_module_version": "1.2.0",
     "model_name": "LayoutModel",
     "state": {
      "_model_module": "@jupyter-widgets/base",
      "_model_module_version": "1.2.0",
      "_model_name": "LayoutModel",
      "_view_count": null,
      "_view_module": "@jupyter-widgets/base",
      "_view_module_version": "1.2.0",
      "_view_name": "LayoutView",
      "align_content": null,
      "align_items": null,
      "align_self": null,
      "border": null,
      "bottom": null,
      "display": null,
      "flex": null,
      "flex_flow": null,
      "grid_area": null,
      "grid_auto_columns": null,
      "grid_auto_flow": null,
      "grid_auto_rows": null,
      "grid_column": null,
      "grid_gap": null,
      "grid_row": null,
      "grid_template_areas": null,
      "grid_template_columns": null,
      "grid_template_rows": null,
      "height": null,
      "justify_content": null,
      "justify_items": null,
      "left": null,
      "margin": null,
      "max_height": null,
      "max_width": null,
      "min_height": null,
      "min_width": null,
      "object_fit": null,
      "object_position": null,
      "order": null,
      "overflow": null,
      "overflow_x": null,
      "overflow_y": null,
      "padding": null,
      "right": null,
      "top": null,
      "visibility": null,
      "width": null
     }
    },
    "7abf2747284c4832acb920607e3b198a": {
     "model_module": "@jupyter-widgets/controls",
     "model_module_version": "1.5.0",
     "model_name": "DescriptionStyleModel",
     "state": {
      "_model_module": "@jupyter-widgets/controls",
      "_model_module_version": "1.5.0",
      "_model_name": "DescriptionStyleModel",
      "_view_count": null,
      "_view_module": "@jupyter-widgets/base",
      "_view_module_version": "1.2.0",
      "_view_name": "StyleView",
      "description_width": ""
     }
    },
    "7bf565e873e04fdf9513b446d377169b": {
     "model_module": "@jupyter-widgets/controls",
     "model_module_version": "1.5.0",
     "model_name": "DescriptionStyleModel",
     "state": {
      "_model_module": "@jupyter-widgets/controls",
      "_model_module_version": "1.5.0",
      "_model_name": "DescriptionStyleModel",
      "_view_count": null,
      "_view_module": "@jupyter-widgets/base",
      "_view_module_version": "1.2.0",
      "_view_name": "StyleView",
      "description_width": ""
     }
    },
    "8009e788310a4b8bbd8b5d62f7ae1db3": {
     "model_module": "@jupyter-widgets/controls",
     "model_module_version": "1.5.0",
     "model_name": "FloatProgressModel",
     "state": {
      "_dom_classes": [],
      "_model_module": "@jupyter-widgets/controls",
      "_model_module_version": "1.5.0",
      "_model_name": "FloatProgressModel",
      "_view_count": null,
      "_view_module": "@jupyter-widgets/controls",
      "_view_module_version": "1.5.0",
      "_view_name": "ProgressView",
      "bar_style": "success",
      "description": "",
      "description_tooltip": null,
      "layout": "IPY_MODEL_83071fb1bb474869942bdf92d2313375",
      "max": 5,
      "min": 0,
      "orientation": "horizontal",
      "style": "IPY_MODEL_edf888a6d547493eb366926a541679a2",
      "value": 5
     }
    },
    "825b86c7b63347daa6a0e38ba9e0d58b": {
     "model_module": "@jupyter-widgets/base",
     "model_module_version": "1.2.0",
     "model_name": "LayoutModel",
     "state": {
      "_model_module": "@jupyter-widgets/base",
      "_model_module_version": "1.2.0",
      "_model_name": "LayoutModel",
      "_view_count": null,
      "_view_module": "@jupyter-widgets/base",
      "_view_module_version": "1.2.0",
      "_view_name": "LayoutView",
      "align_content": null,
      "align_items": null,
      "align_self": null,
      "border": null,
      "bottom": null,
      "display": null,
      "flex": null,
      "flex_flow": null,
      "grid_area": null,
      "grid_auto_columns": null,
      "grid_auto_flow": null,
      "grid_auto_rows": null,
      "grid_column": null,
      "grid_gap": null,
      "grid_row": null,
      "grid_template_areas": null,
      "grid_template_columns": null,
      "grid_template_rows": null,
      "height": null,
      "justify_content": null,
      "justify_items": null,
      "left": null,
      "margin": null,
      "max_height": null,
      "max_width": null,
      "min_height": null,
      "min_width": null,
      "object_fit": null,
      "object_position": null,
      "order": null,
      "overflow": null,
      "overflow_x": null,
      "overflow_y": null,
      "padding": null,
      "right": null,
      "top": null,
      "visibility": "hidden",
      "width": null
     }
    },
    "826549b4b5dc4072a954befc4eee8a48": {
     "model_module": "@jupyter-widgets/base",
     "model_module_version": "1.2.0",
     "model_name": "LayoutModel",
     "state": {
      "_model_module": "@jupyter-widgets/base",
      "_model_module_version": "1.2.0",
      "_model_name": "LayoutModel",
      "_view_count": null,
      "_view_module": "@jupyter-widgets/base",
      "_view_module_version": "1.2.0",
      "_view_name": "LayoutView",
      "align_content": null,
      "align_items": null,
      "align_self": null,
      "border": null,
      "bottom": null,
      "display": null,
      "flex": null,
      "flex_flow": null,
      "grid_area": null,
      "grid_auto_columns": null,
      "grid_auto_flow": null,
      "grid_auto_rows": null,
      "grid_column": null,
      "grid_gap": null,
      "grid_row": null,
      "grid_template_areas": null,
      "grid_template_columns": null,
      "grid_template_rows": null,
      "height": null,
      "justify_content": null,
      "justify_items": null,
      "left": null,
      "margin": null,
      "max_height": null,
      "max_width": null,
      "min_height": null,
      "min_width": null,
      "object_fit": null,
      "object_position": null,
      "order": null,
      "overflow": null,
      "overflow_x": null,
      "overflow_y": null,
      "padding": null,
      "right": null,
      "top": null,
      "visibility": null,
      "width": null
     }
    },
    "83071fb1bb474869942bdf92d2313375": {
     "model_module": "@jupyter-widgets/base",
     "model_module_version": "1.2.0",
     "model_name": "LayoutModel",
     "state": {
      "_model_module": "@jupyter-widgets/base",
      "_model_module_version": "1.2.0",
      "_model_name": "LayoutModel",
      "_view_count": null,
      "_view_module": "@jupyter-widgets/base",
      "_view_module_version": "1.2.0",
      "_view_name": "LayoutView",
      "align_content": null,
      "align_items": null,
      "align_self": null,
      "border": null,
      "bottom": null,
      "display": null,
      "flex": null,
      "flex_flow": null,
      "grid_area": null,
      "grid_auto_columns": null,
      "grid_auto_flow": null,
      "grid_auto_rows": null,
      "grid_column": null,
      "grid_gap": null,
      "grid_row": null,
      "grid_template_areas": null,
      "grid_template_columns": null,
      "grid_template_rows": null,
      "height": null,
      "justify_content": null,
      "justify_items": null,
      "left": null,
      "margin": null,
      "max_height": null,
      "max_width": null,
      "min_height": null,
      "min_width": null,
      "object_fit": null,
      "object_position": null,
      "order": null,
      "overflow": null,
      "overflow_x": null,
      "overflow_y": null,
      "padding": null,
      "right": null,
      "top": null,
      "visibility": null,
      "width": null
     }
    },
    "86951ba5908247c3a459a68ef5e790aa": {
     "model_module": "@jupyter-widgets/base",
     "model_module_version": "1.2.0",
     "model_name": "LayoutModel",
     "state": {
      "_model_module": "@jupyter-widgets/base",
      "_model_module_version": "1.2.0",
      "_model_name": "LayoutModel",
      "_view_count": null,
      "_view_module": "@jupyter-widgets/base",
      "_view_module_version": "1.2.0",
      "_view_name": "LayoutView",
      "align_content": null,
      "align_items": null,
      "align_self": null,
      "border": null,
      "bottom": null,
      "display": null,
      "flex": null,
      "flex_flow": null,
      "grid_area": null,
      "grid_auto_columns": null,
      "grid_auto_flow": null,
      "grid_auto_rows": null,
      "grid_column": null,
      "grid_gap": null,
      "grid_row": null,
      "grid_template_areas": null,
      "grid_template_columns": null,
      "grid_template_rows": null,
      "height": null,
      "justify_content": null,
      "justify_items": null,
      "left": null,
      "margin": null,
      "max_height": null,
      "max_width": null,
      "min_height": null,
      "min_width": null,
      "object_fit": null,
      "object_position": null,
      "order": null,
      "overflow": null,
      "overflow_x": null,
      "overflow_y": null,
      "padding": null,
      "right": null,
      "top": null,
      "visibility": null,
      "width": null
     }
    },
    "872086f40b134cc4bb95732415008c09": {
     "model_module": "@jupyter-widgets/controls",
     "model_module_version": "1.5.0",
     "model_name": "ProgressStyleModel",
     "state": {
      "_model_module": "@jupyter-widgets/controls",
      "_model_module_version": "1.5.0",
      "_model_name": "ProgressStyleModel",
      "_view_count": null,
      "_view_module": "@jupyter-widgets/base",
      "_view_module_version": "1.2.0",
      "_view_name": "StyleView",
      "bar_color": null,
      "description_width": ""
     }
    },
    "8a3ac2d4406d4f7da24fc4adf1790488": {
     "model_module": "@jupyter-widgets/controls",
     "model_module_version": "1.5.0",
     "model_name": "FloatProgressModel",
     "state": {
      "_dom_classes": [],
      "_model_module": "@jupyter-widgets/controls",
      "_model_module_version": "1.5.0",
      "_model_name": "FloatProgressModel",
      "_view_count": null,
      "_view_module": "@jupyter-widgets/controls",
      "_view_module_version": "1.5.0",
      "_view_name": "ProgressView",
      "bar_style": "",
      "description": "",
      "description_tooltip": null,
      "layout": "IPY_MODEL_86951ba5908247c3a459a68ef5e790aa",
      "max": 7,
      "min": 0,
      "orientation": "horizontal",
      "style": "IPY_MODEL_0275b24b930a4ff0a6e83d72b037c1cb",
      "value": 7
     }
    },
    "93f1e736e0504104ba4ad5a7ffbd57de": {
     "model_module": "@jupyter-widgets/base",
     "model_module_version": "1.2.0",
     "model_name": "LayoutModel",
     "state": {
      "_model_module": "@jupyter-widgets/base",
      "_model_module_version": "1.2.0",
      "_model_name": "LayoutModel",
      "_view_count": null,
      "_view_module": "@jupyter-widgets/base",
      "_view_module_version": "1.2.0",
      "_view_name": "LayoutView",
      "align_content": null,
      "align_items": null,
      "align_self": null,
      "border": null,
      "bottom": null,
      "display": null,
      "flex": null,
      "flex_flow": null,
      "grid_area": null,
      "grid_auto_columns": null,
      "grid_auto_flow": null,
      "grid_auto_rows": null,
      "grid_column": null,
      "grid_gap": null,
      "grid_row": null,
      "grid_template_areas": null,
      "grid_template_columns": null,
      "grid_template_rows": null,
      "height": null,
      "justify_content": null,
      "justify_items": null,
      "left": null,
      "margin": null,
      "max_height": null,
      "max_width": null,
      "min_height": null,
      "min_width": null,
      "object_fit": null,
      "object_position": null,
      "order": null,
      "overflow": null,
      "overflow_x": null,
      "overflow_y": null,
      "padding": null,
      "right": null,
      "top": null,
      "visibility": "hidden",
      "width": null
     }
    },
    "95d1df6e3b7c4b8f97052c7836e65d62": {
     "model_module": "@jupyter-widgets/controls",
     "model_module_version": "1.5.0",
     "model_name": "DescriptionStyleModel",
     "state": {
      "_model_module": "@jupyter-widgets/controls",
      "_model_module_version": "1.5.0",
      "_model_name": "DescriptionStyleModel",
      "_view_count": null,
      "_view_module": "@jupyter-widgets/base",
      "_view_module_version": "1.2.0",
      "_view_name": "StyleView",
      "description_width": ""
     }
    },
    "96f3447d1918477395384ae9a4ca665d": {
     "model_module": "@jupyter-widgets/controls",
     "model_module_version": "1.5.0",
     "model_name": "HTMLModel",
     "state": {
      "_dom_classes": [],
      "_model_module": "@jupyter-widgets/controls",
      "_model_module_version": "1.5.0",
      "_model_name": "HTMLModel",
      "_view_count": null,
      "_view_module": "@jupyter-widgets/controls",
      "_view_module_version": "1.5.0",
      "_view_name": "HTMLView",
      "description": "",
      "description_tooltip": null,
      "layout": "IPY_MODEL_c3cec70c6fdd42f0983309abbb878dbf",
      "placeholder": "​",
      "style": "IPY_MODEL_41cb8b2a697b4d39acd0e1a7e3ead6bf",
      "value": "Processing: 100%"
     }
    },
    "98e2d703ce40423ab5cbceee9268f270": {
     "model_module": "@jupyter-widgets/controls",
     "model_module_version": "1.5.0",
     "model_name": "DescriptionStyleModel",
     "state": {
      "_model_module": "@jupyter-widgets/controls",
      "_model_module_version": "1.5.0",
      "_model_name": "DescriptionStyleModel",
      "_view_count": null,
      "_view_module": "@jupyter-widgets/base",
      "_view_module_version": "1.2.0",
      "_view_name": "StyleView",
      "description_width": ""
     }
    },
    "99c8e2d64a774dcc90317f056b0f5739": {
     "model_module": "@jupyter-widgets/controls",
     "model_module_version": "1.5.0",
     "model_name": "DescriptionStyleModel",
     "state": {
      "_model_module": "@jupyter-widgets/controls",
      "_model_module_version": "1.5.0",
      "_model_name": "DescriptionStyleModel",
      "_view_count": null,
      "_view_module": "@jupyter-widgets/base",
      "_view_module_version": "1.2.0",
      "_view_name": "StyleView",
      "description_width": ""
     }
    },
    "9ca1744114a041c3bc72b14324f7622f": {
     "model_module": "@jupyter-widgets/controls",
     "model_module_version": "1.5.0",
     "model_name": "HBoxModel",
     "state": {
      "_dom_classes": [],
      "_model_module": "@jupyter-widgets/controls",
      "_model_module_version": "1.5.0",
      "_model_name": "HBoxModel",
      "_view_count": null,
      "_view_module": "@jupyter-widgets/controls",
      "_view_module_version": "1.5.0",
      "_view_name": "HBoxView",
      "box_style": "",
      "children": [
       "IPY_MODEL_b1f4955ca8bc4d7b8ab3980d965f7646",
       "IPY_MODEL_eb0be29eedec494b96631bf86f16d6b5",
       "IPY_MODEL_b6141803b2894d7cb2a6ebf06d3111a1"
      ],
      "layout": "IPY_MODEL_a517d285e7db450791d344c18cc6ff4c"
     }
    },
    "a517d285e7db450791d344c18cc6ff4c": {
     "model_module": "@jupyter-widgets/base",
     "model_module_version": "1.2.0",
     "model_name": "LayoutModel",
     "state": {
      "_model_module": "@jupyter-widgets/base",
      "_model_module_version": "1.2.0",
      "_model_name": "LayoutModel",
      "_view_count": null,
      "_view_module": "@jupyter-widgets/base",
      "_view_module_version": "1.2.0",
      "_view_name": "LayoutView",
      "align_content": null,
      "align_items": null,
      "align_self": null,
      "border": null,
      "bottom": null,
      "display": null,
      "flex": null,
      "flex_flow": null,
      "grid_area": null,
      "grid_auto_columns": null,
      "grid_auto_flow": null,
      "grid_auto_rows": null,
      "grid_column": null,
      "grid_gap": null,
      "grid_row": null,
      "grid_template_areas": null,
      "grid_template_columns": null,
      "grid_template_rows": null,
      "height": null,
      "justify_content": null,
      "justify_items": null,
      "left": null,
      "margin": null,
      "max_height": null,
      "max_width": null,
      "min_height": null,
      "min_width": null,
      "object_fit": null,
      "object_position": null,
      "order": null,
      "overflow": null,
      "overflow_x": null,
      "overflow_y": null,
      "padding": null,
      "right": null,
      "top": null,
      "visibility": "hidden",
      "width": null
     }
    },
    "a77192a5037b4dba99443f2985531d3e": {
     "model_module": "@jupyter-widgets/controls",
     "model_module_version": "1.5.0",
     "model_name": "DescriptionStyleModel",
     "state": {
      "_model_module": "@jupyter-widgets/controls",
      "_model_module_version": "1.5.0",
      "_model_name": "DescriptionStyleModel",
      "_view_count": null,
      "_view_module": "@jupyter-widgets/base",
      "_view_module_version": "1.2.0",
      "_view_name": "StyleView",
      "description_width": ""
     }
    },
    "a7b7a0a8df664ae5a634f1b9977e3335": {
     "model_module": "@jupyter-widgets/base",
     "model_module_version": "1.2.0",
     "model_name": "LayoutModel",
     "state": {
      "_model_module": "@jupyter-widgets/base",
      "_model_module_version": "1.2.0",
      "_model_name": "LayoutModel",
      "_view_count": null,
      "_view_module": "@jupyter-widgets/base",
      "_view_module_version": "1.2.0",
      "_view_name": "LayoutView",
      "align_content": null,
      "align_items": null,
      "align_self": null,
      "border": null,
      "bottom": null,
      "display": null,
      "flex": null,
      "flex_flow": null,
      "grid_area": null,
      "grid_auto_columns": null,
      "grid_auto_flow": null,
      "grid_auto_rows": null,
      "grid_column": null,
      "grid_gap": null,
      "grid_row": null,
      "grid_template_areas": null,
      "grid_template_columns": null,
      "grid_template_rows": null,
      "height": null,
      "justify_content": null,
      "justify_items": null,
      "left": null,
      "margin": null,
      "max_height": null,
      "max_width": null,
      "min_height": null,
      "min_width": null,
      "object_fit": null,
      "object_position": null,
      "order": null,
      "overflow": null,
      "overflow_x": null,
      "overflow_y": null,
      "padding": null,
      "right": null,
      "top": null,
      "visibility": null,
      "width": null
     }
    },
    "a8c091fbc1f649c189aa4ea03c94efd0": {
     "model_module": "@jupyter-widgets/base",
     "model_module_version": "1.2.0",
     "model_name": "LayoutModel",
     "state": {
      "_model_module": "@jupyter-widgets/base",
      "_model_module_version": "1.2.0",
      "_model_name": "LayoutModel",
      "_view_count": null,
      "_view_module": "@jupyter-widgets/base",
      "_view_module_version": "1.2.0",
      "_view_name": "LayoutView",
      "align_content": null,
      "align_items": null,
      "align_self": null,
      "border": null,
      "bottom": null,
      "display": null,
      "flex": null,
      "flex_flow": null,
      "grid_area": null,
      "grid_auto_columns": null,
      "grid_auto_flow": null,
      "grid_auto_rows": null,
      "grid_column": null,
      "grid_gap": null,
      "grid_row": null,
      "grid_template_areas": null,
      "grid_template_columns": null,
      "grid_template_rows": null,
      "height": null,
      "justify_content": null,
      "justify_items": null,
      "left": null,
      "margin": null,
      "max_height": null,
      "max_width": null,
      "min_height": null,
      "min_width": null,
      "object_fit": null,
      "object_position": null,
      "order": null,
      "overflow": null,
      "overflow_x": null,
      "overflow_y": null,
      "padding": null,
      "right": null,
      "top": null,
      "visibility": null,
      "width": null
     }
    },
    "af14e1357ece43dca9a51521f26bef5e": {
     "model_module": "@jupyter-widgets/base",
     "model_module_version": "1.2.0",
     "model_name": "LayoutModel",
     "state": {
      "_model_module": "@jupyter-widgets/base",
      "_model_module_version": "1.2.0",
      "_model_name": "LayoutModel",
      "_view_count": null,
      "_view_module": "@jupyter-widgets/base",
      "_view_module_version": "1.2.0",
      "_view_name": "LayoutView",
      "align_content": null,
      "align_items": null,
      "align_self": null,
      "border": null,
      "bottom": null,
      "display": null,
      "flex": null,
      "flex_flow": null,
      "grid_area": null,
      "grid_auto_columns": null,
      "grid_auto_flow": null,
      "grid_auto_rows": null,
      "grid_column": null,
      "grid_gap": null,
      "grid_row": null,
      "grid_template_areas": null,
      "grid_template_columns": null,
      "grid_template_rows": null,
      "height": null,
      "justify_content": null,
      "justify_items": null,
      "left": null,
      "margin": null,
      "max_height": null,
      "max_width": null,
      "min_height": null,
      "min_width": null,
      "object_fit": null,
      "object_position": null,
      "order": null,
      "overflow": null,
      "overflow_x": null,
      "overflow_y": null,
      "padding": null,
      "right": null,
      "top": null,
      "visibility": null,
      "width": null
     }
    },
    "b1f4955ca8bc4d7b8ab3980d965f7646": {
     "model_module": "@jupyter-widgets/controls",
     "model_module_version": "1.5.0",
     "model_name": "HTMLModel",
     "state": {
      "_dom_classes": [],
      "_model_module": "@jupyter-widgets/controls",
      "_model_module_version": "1.5.0",
      "_model_name": "HTMLModel",
      "_view_count": null,
      "_view_module": "@jupyter-widgets/controls",
      "_view_module_version": "1.5.0",
      "_view_name": "HTMLView",
      "description": "",
      "description_tooltip": null,
      "layout": "IPY_MODEL_660c16d27e0040259b0a5fc51dcaa477",
      "placeholder": "​",
      "style": "IPY_MODEL_15cfc9a9b7454eae8c8ac9bb0fd143ab",
      "value": "Processing: 100%"
     }
    },
    "b55997fb15c446f29ea59d0cd4364eb8": {
     "model_module": "@jupyter-widgets/controls",
     "model_module_version": "1.5.0",
     "model_name": "FloatProgressModel",
     "state": {
      "_dom_classes": [],
      "_model_module": "@jupyter-widgets/controls",
      "_model_module_version": "1.5.0",
      "_model_name": "FloatProgressModel",
      "_view_count": null,
      "_view_module": "@jupyter-widgets/controls",
      "_view_module_version": "1.5.0",
      "_view_name": "ProgressView",
      "bar_style": "",
      "description": "",
      "description_tooltip": null,
      "layout": "IPY_MODEL_5ec91acff4734ef7b5c417596b6607d3",
      "max": 65,
      "min": 0,
      "orientation": "horizontal",
      "style": "IPY_MODEL_ec441e9d9e7d4c5c972ae7a016ff1e83",
      "value": 65
     }
    },
    "b6141803b2894d7cb2a6ebf06d3111a1": {
     "model_module": "@jupyter-widgets/controls",
     "model_module_version": "1.5.0",
     "model_name": "HTMLModel",
     "state": {
      "_dom_classes": [],
      "_model_module": "@jupyter-widgets/controls",
      "_model_module_version": "1.5.0",
      "_model_name": "HTMLModel",
      "_view_count": null,
      "_view_module": "@jupyter-widgets/controls",
      "_view_module_version": "1.5.0",
      "_view_name": "HTMLView",
      "description": "",
      "description_tooltip": null,
      "layout": "IPY_MODEL_e1712df3c35844e79a3454ee41aa68ef",
      "placeholder": "​",
      "style": "IPY_MODEL_03c6a0c5b67643f6bfc52bb873aebab3",
      "value": " 4/4 [01:34&lt;00:00, 22.18s/it]"
     }
    },
    "b6c9878d5d2b456fa806e409679a6761": {
     "model_module": "@jupyter-widgets/controls",
     "model_module_version": "1.5.0",
     "model_name": "HTMLModel",
     "state": {
      "_dom_classes": [],
      "_model_module": "@jupyter-widgets/controls",
      "_model_module_version": "1.5.0",
      "_model_name": "HTMLModel",
      "_view_count": null,
      "_view_module": "@jupyter-widgets/controls",
      "_view_module_version": "1.5.0",
      "_view_name": "HTMLView",
      "description": "",
      "description_tooltip": null,
      "layout": "IPY_MODEL_523f0ee170a649ed9881239fdd2cfc22",
      "placeholder": "​",
      "style": "IPY_MODEL_69152a7f4fff421a9798a7d6291bda85",
      "value": "Generate report structure: 100%"
     }
    },
    "ba2d89abf20a4cc28f7e2fc56b2ad7dd": {
     "model_module": "@jupyter-widgets/controls",
     "model_module_version": "1.5.0",
     "model_name": "DescriptionStyleModel",
     "state": {
      "_model_module": "@jupyter-widgets/controls",
      "_model_module_version": "1.5.0",
      "_model_name": "DescriptionStyleModel",
      "_view_count": null,
      "_view_module": "@jupyter-widgets/base",
      "_view_module_version": "1.2.0",
      "_view_name": "StyleView",
      "description_width": ""
     }
    },
    "bc5f49757047499eb1dea8f947813016": {
     "model_module": "@jupyter-widgets/controls",
     "model_module_version": "1.5.0",
     "model_name": "DescriptionStyleModel",
     "state": {
      "_model_module": "@jupyter-widgets/controls",
      "_model_module_version": "1.5.0",
      "_model_name": "DescriptionStyleModel",
      "_view_count": null,
      "_view_module": "@jupyter-widgets/base",
      "_view_module_version": "1.2.0",
      "_view_name": "StyleView",
      "description_width": ""
     }
    },
    "bf274d9221da4064bf5bdd73af3c0571": {
     "model_module": "@jupyter-widgets/base",
     "model_module_version": "1.2.0",
     "model_name": "LayoutModel",
     "state": {
      "_model_module": "@jupyter-widgets/base",
      "_model_module_version": "1.2.0",
      "_model_name": "LayoutModel",
      "_view_count": null,
      "_view_module": "@jupyter-widgets/base",
      "_view_module_version": "1.2.0",
      "_view_name": "LayoutView",
      "align_content": null,
      "align_items": null,
      "align_self": null,
      "border": null,
      "bottom": null,
      "display": null,
      "flex": null,
      "flex_flow": null,
      "grid_area": null,
      "grid_auto_columns": null,
      "grid_auto_flow": null,
      "grid_auto_rows": null,
      "grid_column": null,
      "grid_gap": null,
      "grid_row": null,
      "grid_template_areas": null,
      "grid_template_columns": null,
      "grid_template_rows": null,
      "height": null,
      "justify_content": null,
      "justify_items": null,
      "left": null,
      "margin": null,
      "max_height": null,
      "max_width": null,
      "min_height": null,
      "min_width": null,
      "object_fit": null,
      "object_position": null,
      "order": null,
      "overflow": null,
      "overflow_x": null,
      "overflow_y": null,
      "padding": null,
      "right": null,
      "top": null,
      "visibility": null,
      "width": null
     }
    },
    "c089439428294cc59c1fc36d7b670245": {
     "model_module": "@jupyter-widgets/base",
     "model_module_version": "1.2.0",
     "model_name": "LayoutModel",
     "state": {
      "_model_module": "@jupyter-widgets/base",
      "_model_module_version": "1.2.0",
      "_model_name": "LayoutModel",
      "_view_count": null,
      "_view_module": "@jupyter-widgets/base",
      "_view_module_version": "1.2.0",
      "_view_name": "LayoutView",
      "align_content": null,
      "align_items": null,
      "align_self": null,
      "border": null,
      "bottom": null,
      "display": null,
      "flex": null,
      "flex_flow": null,
      "grid_area": null,
      "grid_auto_columns": null,
      "grid_auto_flow": null,
      "grid_auto_rows": null,
      "grid_column": null,
      "grid_gap": null,
      "grid_row": null,
      "grid_template_areas": null,
      "grid_template_columns": null,
      "grid_template_rows": null,
      "height": null,
      "justify_content": null,
      "justify_items": null,
      "left": null,
      "margin": null,
      "max_height": null,
      "max_width": null,
      "min_height": null,
      "min_width": null,
      "object_fit": null,
      "object_position": null,
      "order": null,
      "overflow": null,
      "overflow_x": null,
      "overflow_y": null,
      "padding": null,
      "right": null,
      "top": null,
      "visibility": "hidden",
      "width": null
     }
    },
    "c09987f5a9b248868a3ab1e485842b58": {
     "model_module": "@jupyter-widgets/base",
     "model_module_version": "1.2.0",
     "model_name": "LayoutModel",
     "state": {
      "_model_module": "@jupyter-widgets/base",
      "_model_module_version": "1.2.0",
      "_model_name": "LayoutModel",
      "_view_count": null,
      "_view_module": "@jupyter-widgets/base",
      "_view_module_version": "1.2.0",
      "_view_name": "LayoutView",
      "align_content": null,
      "align_items": null,
      "align_self": null,
      "border": null,
      "bottom": null,
      "display": null,
      "flex": null,
      "flex_flow": null,
      "grid_area": null,
      "grid_auto_columns": null,
      "grid_auto_flow": null,
      "grid_auto_rows": null,
      "grid_column": null,
      "grid_gap": null,
      "grid_row": null,
      "grid_template_areas": null,
      "grid_template_columns": null,
      "grid_template_rows": null,
      "height": null,
      "justify_content": null,
      "justify_items": null,
      "left": null,
      "margin": null,
      "max_height": null,
      "max_width": null,
      "min_height": null,
      "min_width": null,
      "object_fit": null,
      "object_position": null,
      "order": null,
      "overflow": null,
      "overflow_x": null,
      "overflow_y": null,
      "padding": null,
      "right": null,
      "top": null,
      "visibility": null,
      "width": null
     }
    },
    "c171e050450f45669051802e89499952": {
     "model_module": "@jupyter-widgets/controls",
     "model_module_version": "1.5.0",
     "model_name": "HBoxModel",
     "state": {
      "_dom_classes": [],
      "_model_module": "@jupyter-widgets/controls",
      "_model_module_version": "1.5.0",
      "_model_name": "HBoxModel",
      "_view_count": null,
      "_view_module": "@jupyter-widgets/controls",
      "_view_module_version": "1.5.0",
      "_view_name": "HBoxView",
      "box_style": "",
      "children": [
       "IPY_MODEL_0d0458324bee4a5d85f93a3d291f2d5d",
       "IPY_MODEL_37812df359354db8ab2f000534cd3da3",
       "IPY_MODEL_2408598147364e3d900a0c209e5d2735"
      ],
      "layout": "IPY_MODEL_6e0df12808dc4a30b3e40142a138dc84"
     }
    },
    "c294d556cbf4410baeaac4a42bd28fef": {
     "model_module": "@jupyter-widgets/controls",
     "model_module_version": "1.5.0",
     "model_name": "ProgressStyleModel",
     "state": {
      "_model_module": "@jupyter-widgets/controls",
      "_model_module_version": "1.5.0",
      "_model_name": "ProgressStyleModel",
      "_view_count": null,
      "_view_module": "@jupyter-widgets/base",
      "_view_module_version": "1.2.0",
      "_view_name": "StyleView",
      "bar_color": null,
      "description_width": ""
     }
    },
    "c3cec70c6fdd42f0983309abbb878dbf": {
     "model_module": "@jupyter-widgets/base",
     "model_module_version": "1.2.0",
     "model_name": "LayoutModel",
     "state": {
      "_model_module": "@jupyter-widgets/base",
      "_model_module_version": "1.2.0",
      "_model_name": "LayoutModel",
      "_view_count": null,
      "_view_module": "@jupyter-widgets/base",
      "_view_module_version": "1.2.0",
      "_view_name": "LayoutView",
      "align_content": null,
      "align_items": null,
      "align_self": null,
      "border": null,
      "bottom": null,
      "display": null,
      "flex": null,
      "flex_flow": null,
      "grid_area": null,
      "grid_auto_columns": null,
      "grid_auto_flow": null,
      "grid_auto_rows": null,
      "grid_column": null,
      "grid_gap": null,
      "grid_row": null,
      "grid_template_areas": null,
      "grid_template_columns": null,
      "grid_template_rows": null,
      "height": null,
      "justify_content": null,
      "justify_items": null,
      "left": null,
      "margin": null,
      "max_height": null,
      "max_width": null,
      "min_height": null,
      "min_width": null,
      "object_fit": null,
      "object_position": null,
      "order": null,
      "overflow": null,
      "overflow_x": null,
      "overflow_y": null,
      "padding": null,
      "right": null,
      "top": null,
      "visibility": null,
      "width": null
     }
    },
    "c43318f3bf1a41eabd1ae765a34f0bb2": {
     "model_module": "@jupyter-widgets/controls",
     "model_module_version": "1.5.0",
     "model_name": "ProgressStyleModel",
     "state": {
      "_model_module": "@jupyter-widgets/controls",
      "_model_module_version": "1.5.0",
      "_model_name": "ProgressStyleModel",
      "_view_count": null,
      "_view_module": "@jupyter-widgets/base",
      "_view_module_version": "1.2.0",
      "_view_name": "StyleView",
      "bar_color": null,
      "description_width": ""
     }
    },
    "cf11eeb87383425f8536ad519086b617": {
     "model_module": "@jupyter-widgets/base",
     "model_module_version": "1.2.0",
     "model_name": "LayoutModel",
     "state": {
      "_model_module": "@jupyter-widgets/base",
      "_model_module_version": "1.2.0",
      "_model_name": "LayoutModel",
      "_view_count": null,
      "_view_module": "@jupyter-widgets/base",
      "_view_module_version": "1.2.0",
      "_view_name": "LayoutView",
      "align_content": null,
      "align_items": null,
      "align_self": null,
      "border": null,
      "bottom": null,
      "display": null,
      "flex": null,
      "flex_flow": null,
      "grid_area": null,
      "grid_auto_columns": null,
      "grid_auto_flow": null,
      "grid_auto_rows": null,
      "grid_column": null,
      "grid_gap": null,
      "grid_row": null,
      "grid_template_areas": null,
      "grid_template_columns": null,
      "grid_template_rows": null,
      "height": null,
      "justify_content": null,
      "justify_items": null,
      "left": null,
      "margin": null,
      "max_height": null,
      "max_width": null,
      "min_height": null,
      "min_width": null,
      "object_fit": null,
      "object_position": null,
      "order": null,
      "overflow": null,
      "overflow_x": null,
      "overflow_y": null,
      "padding": null,
      "right": null,
      "top": null,
      "visibility": null,
      "width": null
     }
    },
    "cf40f9575e734abeb1f2a0f3c1c05879": {
     "model_module": "@jupyter-widgets/controls",
     "model_module_version": "1.5.0",
     "model_name": "HBoxModel",
     "state": {
      "_dom_classes": [],
      "_model_module": "@jupyter-widgets/controls",
      "_model_module_version": "1.5.0",
      "_model_name": "HBoxModel",
      "_view_count": null,
      "_view_module": "@jupyter-widgets/controls",
      "_view_module_version": "1.5.0",
      "_view_name": "HBoxView",
      "box_style": "",
      "children": [
       "IPY_MODEL_96f3447d1918477395384ae9a4ca665d",
       "IPY_MODEL_b55997fb15c446f29ea59d0cd4364eb8",
       "IPY_MODEL_515cf352607e4caea5f6d96022d3fcc4"
      ],
      "layout": "IPY_MODEL_c089439428294cc59c1fc36d7b670245"
     }
    },
    "d0fd27d2e46f4ab7b377278d7fa201d5": {
     "model_module": "@jupyter-widgets/base",
     "model_module_version": "1.2.0",
     "model_name": "LayoutModel",
     "state": {
      "_model_module": "@jupyter-widgets/base",
      "_model_module_version": "1.2.0",
      "_model_name": "LayoutModel",
      "_view_count": null,
      "_view_module": "@jupyter-widgets/base",
      "_view_module_version": "1.2.0",
      "_view_name": "LayoutView",
      "align_content": null,
      "align_items": null,
      "align_self": null,
      "border": null,
      "bottom": null,
      "display": null,
      "flex": null,
      "flex_flow": null,
      "grid_area": null,
      "grid_auto_columns": null,
      "grid_auto_flow": null,
      "grid_auto_rows": null,
      "grid_column": null,
      "grid_gap": null,
      "grid_row": null,
      "grid_template_areas": null,
      "grid_template_columns": null,
      "grid_template_rows": null,
      "height": null,
      "justify_content": null,
      "justify_items": null,
      "left": null,
      "margin": null,
      "max_height": null,
      "max_width": null,
      "min_height": null,
      "min_width": null,
      "object_fit": null,
      "object_position": null,
      "order": null,
      "overflow": null,
      "overflow_x": null,
      "overflow_y": null,
      "padding": null,
      "right": null,
      "top": null,
      "visibility": null,
      "width": null
     }
    },
    "d2b63b0c2d56428a8a9aa52fb347c7da": {
     "model_module": "@jupyter-widgets/controls",
     "model_module_version": "1.5.0",
     "model_name": "ProgressStyleModel",
     "state": {
      "_model_module": "@jupyter-widgets/controls",
      "_model_module_version": "1.5.0",
      "_model_name": "ProgressStyleModel",
      "_view_count": null,
      "_view_module": "@jupyter-widgets/base",
      "_view_module_version": "1.2.0",
      "_view_name": "StyleView",
      "bar_color": null,
      "description_width": ""
     }
    },
    "d7ae9f22e3fa43d285a981c32d3cd991": {
     "model_module": "@jupyter-widgets/base",
     "model_module_version": "1.2.0",
     "model_name": "LayoutModel",
     "state": {
      "_model_module": "@jupyter-widgets/base",
      "_model_module_version": "1.2.0",
      "_model_name": "LayoutModel",
      "_view_count": null,
      "_view_module": "@jupyter-widgets/base",
      "_view_module_version": "1.2.0",
      "_view_name": "LayoutView",
      "align_content": null,
      "align_items": null,
      "align_self": null,
      "border": null,
      "bottom": null,
      "display": null,
      "flex": null,
      "flex_flow": null,
      "grid_area": null,
      "grid_auto_columns": null,
      "grid_auto_flow": null,
      "grid_auto_rows": null,
      "grid_column": null,
      "grid_gap": null,
      "grid_row": null,
      "grid_template_areas": null,
      "grid_template_columns": null,
      "grid_template_rows": null,
      "height": null,
      "justify_content": null,
      "justify_items": null,
      "left": null,
      "margin": null,
      "max_height": null,
      "max_width": null,
      "min_height": null,
      "min_width": null,
      "object_fit": null,
      "object_position": null,
      "order": null,
      "overflow": null,
      "overflow_x": null,
      "overflow_y": null,
      "padding": null,
      "right": null,
      "top": null,
      "visibility": null,
      "width": null
     }
    },
    "d85143a123a249a5899b6921a918e992": {
     "model_module": "@jupyter-widgets/controls",
     "model_module_version": "1.5.0",
     "model_name": "HBoxModel",
     "state": {
      "_dom_classes": [],
      "_model_module": "@jupyter-widgets/controls",
      "_model_module_version": "1.5.0",
      "_model_name": "HBoxModel",
      "_view_count": null,
      "_view_module": "@jupyter-widgets/controls",
      "_view_module_version": "1.5.0",
      "_view_name": "HBoxView",
      "box_style": "",
      "children": [
       "IPY_MODEL_2652e751bd5b404e88504d04ae40a275",
       "IPY_MODEL_f561f4f2c34e434abf85bacbd75e6a47",
       "IPY_MODEL_45a24db6d0c94b3fb6bba04d3969b994"
      ],
      "layout": "IPY_MODEL_825b86c7b63347daa6a0e38ba9e0d58b"
     }
    },
    "d896e269271d499c9aaea2549cdaa735": {
     "model_module": "@jupyter-widgets/base",
     "model_module_version": "1.2.0",
     "model_name": "LayoutModel",
     "state": {
      "_model_module": "@jupyter-widgets/base",
      "_model_module_version": "1.2.0",
      "_model_name": "LayoutModel",
      "_view_count": null,
      "_view_module": "@jupyter-widgets/base",
      "_view_module_version": "1.2.0",
      "_view_name": "LayoutView",
      "align_content": null,
      "align_items": null,
      "align_self": null,
      "border": null,
      "bottom": null,
      "display": null,
      "flex": null,
      "flex_flow": null,
      "grid_area": null,
      "grid_auto_columns": null,
      "grid_auto_flow": null,
      "grid_auto_rows": null,
      "grid_column": null,
      "grid_gap": null,
      "grid_row": null,
      "grid_template_areas": null,
      "grid_template_columns": null,
      "grid_template_rows": null,
      "height": null,
      "justify_content": null,
      "justify_items": null,
      "left": null,
      "margin": null,
      "max_height": null,
      "max_width": null,
      "min_height": null,
      "min_width": null,
      "object_fit": null,
      "object_position": null,
      "order": null,
      "overflow": null,
      "overflow_x": null,
      "overflow_y": null,
      "padding": null,
      "right": null,
      "top": null,
      "visibility": null,
      "width": null
     }
    },
    "da8d3755a3d4482dba581b338bebecd0": {
     "model_module": "@jupyter-widgets/controls",
     "model_module_version": "1.5.0",
     "model_name": "HBoxModel",
     "state": {
      "_dom_classes": [],
      "_model_module": "@jupyter-widgets/controls",
      "_model_module_version": "1.5.0",
      "_model_name": "HBoxModel",
      "_view_count": null,
      "_view_module": "@jupyter-widgets/controls",
      "_view_module_version": "1.5.0",
      "_view_name": "HBoxView",
      "box_style": "",
      "children": [
       "IPY_MODEL_f3052eec462040638704d273b9128a12",
       "IPY_MODEL_edb9dfa1ed644492952072813b5e6838",
       "IPY_MODEL_30d33fca0e3645a3870195283bd674db"
      ],
      "layout": "IPY_MODEL_e34eea5d0c3445769342dd9b1fa21352"
     }
    },
    "dbf2c67695a9462dae1381885b170abd": {
     "model_module": "@jupyter-widgets/base",
     "model_module_version": "1.2.0",
     "model_name": "LayoutModel",
     "state": {
      "_model_module": "@jupyter-widgets/base",
      "_model_module_version": "1.2.0",
      "_model_name": "LayoutModel",
      "_view_count": null,
      "_view_module": "@jupyter-widgets/base",
      "_view_module_version": "1.2.0",
      "_view_name": "LayoutView",
      "align_content": null,
      "align_items": null,
      "align_self": null,
      "border": null,
      "bottom": null,
      "display": null,
      "flex": null,
      "flex_flow": null,
      "grid_area": null,
      "grid_auto_columns": null,
      "grid_auto_flow": null,
      "grid_auto_rows": null,
      "grid_column": null,
      "grid_gap": null,
      "grid_row": null,
      "grid_template_areas": null,
      "grid_template_columns": null,
      "grid_template_rows": null,
      "height": null,
      "justify_content": null,
      "justify_items": null,
      "left": null,
      "margin": null,
      "max_height": null,
      "max_width": null,
      "min_height": null,
      "min_width": null,
      "object_fit": null,
      "object_position": null,
      "order": null,
      "overflow": null,
      "overflow_x": null,
      "overflow_y": null,
      "padding": null,
      "right": null,
      "top": null,
      "visibility": null,
      "width": null
     }
    },
    "df58b197a5fe4f2b9d46ff1973798da9": {
     "model_module": "@jupyter-widgets/controls",
     "model_module_version": "1.5.0",
     "model_name": "HTMLModel",
     "state": {
      "_dom_classes": [],
      "_model_module": "@jupyter-widgets/controls",
      "_model_module_version": "1.5.0",
      "_model_name": "HTMLModel",
      "_view_count": null,
      "_view_module": "@jupyter-widgets/controls",
      "_view_module_version": "1.5.0",
      "_view_name": "HTMLView",
      "description": "",
      "description_tooltip": null,
      "layout": "IPY_MODEL_a8c091fbc1f649c189aa4ea03c94efd0",
      "placeholder": "​",
      "style": "IPY_MODEL_a77192a5037b4dba99443f2985531d3e",
      "value": " 1/1 [00:10&lt;00:00, 10.59s/it]"
     }
    },
    "e140543e8a0643d09c6586ea4352b513": {
     "model_module": "@jupyter-widgets/base",
     "model_module_version": "1.2.0",
     "model_name": "LayoutModel",
     "state": {
      "_model_module": "@jupyter-widgets/base",
      "_model_module_version": "1.2.0",
      "_model_name": "LayoutModel",
      "_view_count": null,
      "_view_module": "@jupyter-widgets/base",
      "_view_module_version": "1.2.0",
      "_view_name": "LayoutView",
      "align_content": null,
      "align_items": null,
      "align_self": null,
      "border": null,
      "bottom": null,
      "display": null,
      "flex": null,
      "flex_flow": null,
      "grid_area": null,
      "grid_auto_columns": null,
      "grid_auto_flow": null,
      "grid_auto_rows": null,
      "grid_column": null,
      "grid_gap": null,
      "grid_row": null,
      "grid_template_areas": null,
      "grid_template_columns": null,
      "grid_template_rows": null,
      "height": null,
      "justify_content": null,
      "justify_items": null,
      "left": null,
      "margin": null,
      "max_height": null,
      "max_width": null,
      "min_height": null,
      "min_width": null,
      "object_fit": null,
      "object_position": null,
      "order": null,
      "overflow": null,
      "overflow_x": null,
      "overflow_y": null,
      "padding": null,
      "right": null,
      "top": null,
      "visibility": null,
      "width": null
     }
    },
    "e1712df3c35844e79a3454ee41aa68ef": {
     "model_module": "@jupyter-widgets/base",
     "model_module_version": "1.2.0",
     "model_name": "LayoutModel",
     "state": {
      "_model_module": "@jupyter-widgets/base",
      "_model_module_version": "1.2.0",
      "_model_name": "LayoutModel",
      "_view_count": null,
      "_view_module": "@jupyter-widgets/base",
      "_view_module_version": "1.2.0",
      "_view_name": "LayoutView",
      "align_content": null,
      "align_items": null,
      "align_self": null,
      "border": null,
      "bottom": null,
      "display": null,
      "flex": null,
      "flex_flow": null,
      "grid_area": null,
      "grid_auto_columns": null,
      "grid_auto_flow": null,
      "grid_auto_rows": null,
      "grid_column": null,
      "grid_gap": null,
      "grid_row": null,
      "grid_template_areas": null,
      "grid_template_columns": null,
      "grid_template_rows": null,
      "height": null,
      "justify_content": null,
      "justify_items": null,
      "left": null,
      "margin": null,
      "max_height": null,
      "max_width": null,
      "min_height": null,
      "min_width": null,
      "object_fit": null,
      "object_position": null,
      "order": null,
      "overflow": null,
      "overflow_x": null,
      "overflow_y": null,
      "padding": null,
      "right": null,
      "top": null,
      "visibility": null,
      "width": null
     }
    },
    "e1cf1d52eee740dd8f7becfcb2fad697": {
     "model_module": "@jupyter-widgets/base",
     "model_module_version": "1.2.0",
     "model_name": "LayoutModel",
     "state": {
      "_model_module": "@jupyter-widgets/base",
      "_model_module_version": "1.2.0",
      "_model_name": "LayoutModel",
      "_view_count": null,
      "_view_module": "@jupyter-widgets/base",
      "_view_module_version": "1.2.0",
      "_view_name": "LayoutView",
      "align_content": null,
      "align_items": null,
      "align_self": null,
      "border": null,
      "bottom": null,
      "display": null,
      "flex": null,
      "flex_flow": null,
      "grid_area": null,
      "grid_auto_columns": null,
      "grid_auto_flow": null,
      "grid_auto_rows": null,
      "grid_column": null,
      "grid_gap": null,
      "grid_row": null,
      "grid_template_areas": null,
      "grid_template_columns": null,
      "grid_template_rows": null,
      "height": null,
      "justify_content": null,
      "justify_items": null,
      "left": null,
      "margin": null,
      "max_height": null,
      "max_width": null,
      "min_height": null,
      "min_width": null,
      "object_fit": null,
      "object_position": null,
      "order": null,
      "overflow": null,
      "overflow_x": null,
      "overflow_y": null,
      "padding": null,
      "right": null,
      "top": null,
      "visibility": null,
      "width": null
     }
    },
    "e34eea5d0c3445769342dd9b1fa21352": {
     "model_module": "@jupyter-widgets/base",
     "model_module_version": "1.2.0",
     "model_name": "LayoutModel",
     "state": {
      "_model_module": "@jupyter-widgets/base",
      "_model_module_version": "1.2.0",
      "_model_name": "LayoutModel",
      "_view_count": null,
      "_view_module": "@jupyter-widgets/base",
      "_view_module_version": "1.2.0",
      "_view_name": "LayoutView",
      "align_content": null,
      "align_items": null,
      "align_self": null,
      "border": null,
      "bottom": null,
      "display": null,
      "flex": null,
      "flex_flow": null,
      "grid_area": null,
      "grid_auto_columns": null,
      "grid_auto_flow": null,
      "grid_auto_rows": null,
      "grid_column": null,
      "grid_gap": null,
      "grid_row": null,
      "grid_template_areas": null,
      "grid_template_columns": null,
      "grid_template_rows": null,
      "height": null,
      "justify_content": null,
      "justify_items": null,
      "left": null,
      "margin": null,
      "max_height": null,
      "max_width": null,
      "min_height": null,
      "min_width": null,
      "object_fit": null,
      "object_position": null,
      "order": null,
      "overflow": null,
      "overflow_x": null,
      "overflow_y": null,
      "padding": null,
      "right": null,
      "top": null,
      "visibility": "hidden",
      "width": null
     }
    },
    "e880f9ee201a4a8ca08a3be033ee31a6": {
     "model_module": "@jupyter-widgets/base",
     "model_module_version": "1.2.0",
     "model_name": "LayoutModel",
     "state": {
      "_model_module": "@jupyter-widgets/base",
      "_model_module_version": "1.2.0",
      "_model_name": "LayoutModel",
      "_view_count": null,
      "_view_module": "@jupyter-widgets/base",
      "_view_module_version": "1.2.0",
      "_view_name": "LayoutView",
      "align_content": null,
      "align_items": null,
      "align_self": null,
      "border": null,
      "bottom": null,
      "display": null,
      "flex": null,
      "flex_flow": null,
      "grid_area": null,
      "grid_auto_columns": null,
      "grid_auto_flow": null,
      "grid_auto_rows": null,
      "grid_column": null,
      "grid_gap": null,
      "grid_row": null,
      "grid_template_areas": null,
      "grid_template_columns": null,
      "grid_template_rows": null,
      "height": null,
      "justify_content": null,
      "justify_items": null,
      "left": null,
      "margin": null,
      "max_height": null,
      "max_width": null,
      "min_height": null,
      "min_width": null,
      "object_fit": null,
      "object_position": null,
      "order": null,
      "overflow": null,
      "overflow_x": null,
      "overflow_y": null,
      "padding": null,
      "right": null,
      "top": null,
      "visibility": null,
      "width": null
     }
    },
    "e8ad7da6d0de4ab49e8949b7ce2d6b8d": {
     "model_module": "@jupyter-widgets/controls",
     "model_module_version": "1.5.0",
     "model_name": "ToggleButtonsStyleModel",
     "state": {
      "_model_module": "@jupyter-widgets/controls",
      "_model_module_version": "1.5.0",
      "_model_name": "ToggleButtonsStyleModel",
      "_view_count": null,
      "_view_module": "@jupyter-widgets/base",
      "_view_module_version": "1.2.0",
      "_view_name": "StyleView",
      "button_width": "",
      "description_width": "",
      "font_weight": ""
     }
    },
    "eb0be29eedec494b96631bf86f16d6b5": {
     "model_module": "@jupyter-widgets/controls",
     "model_module_version": "1.5.0",
     "model_name": "FloatProgressModel",
     "state": {
      "_dom_classes": [],
      "_model_module": "@jupyter-widgets/controls",
      "_model_module_version": "1.5.0",
      "_model_name": "FloatProgressModel",
      "_view_count": null,
      "_view_module": "@jupyter-widgets/controls",
      "_view_module_version": "1.5.0",
      "_view_name": "ProgressView",
      "bar_style": "",
      "description": "",
      "description_tooltip": null,
      "layout": "IPY_MODEL_d7ae9f22e3fa43d285a981c32d3cd991",
      "max": 4,
      "min": 0,
      "orientation": "horizontal",
      "style": "IPY_MODEL_d2b63b0c2d56428a8a9aa52fb347c7da",
      "value": 4
     }
    },
    "ec441e9d9e7d4c5c972ae7a016ff1e83": {
     "model_module": "@jupyter-widgets/controls",
     "model_module_version": "1.5.0",
     "model_name": "ProgressStyleModel",
     "state": {
      "_model_module": "@jupyter-widgets/controls",
      "_model_module_version": "1.5.0",
      "_model_name": "ProgressStyleModel",
      "_view_count": null,
      "_view_module": "@jupyter-widgets/base",
      "_view_module_version": "1.2.0",
      "_view_name": "StyleView",
      "bar_color": null,
      "description_width": ""
     }
    },
    "ed2b7eb5f05148cc930d1c61208e133b": {
     "model_module": "@jupyter-widgets/controls",
     "model_module_version": "1.5.0",
     "model_name": "ProgressStyleModel",
     "state": {
      "_model_module": "@jupyter-widgets/controls",
      "_model_module_version": "1.5.0",
      "_model_name": "ProgressStyleModel",
      "_view_count": null,
      "_view_module": "@jupyter-widgets/base",
      "_view_module_version": "1.2.0",
      "_view_name": "StyleView",
      "bar_color": null,
      "description_width": ""
     }
    },
    "edb9dfa1ed644492952072813b5e6838": {
     "model_module": "@jupyter-widgets/controls",
     "model_module_version": "1.5.0",
     "model_name": "FloatProgressModel",
     "state": {
      "_dom_classes": [],
      "_model_module": "@jupyter-widgets/controls",
      "_model_module_version": "1.5.0",
      "_model_name": "FloatProgressModel",
      "_view_count": null,
      "_view_module": "@jupyter-widgets/controls",
      "_view_module_version": "1.5.0",
      "_view_name": "ProgressView",
      "bar_style": "",
      "description": "",
      "description_tooltip": null,
      "layout": "IPY_MODEL_561215826000421fae1c5189b48214bb",
      "max": 65,
      "min": 0,
      "orientation": "horizontal",
      "style": "IPY_MODEL_6d1a3ebe2fcd44bb93c6ebef530294c8",
      "value": 65
     }
    },
    "edf888a6d547493eb366926a541679a2": {
     "model_module": "@jupyter-widgets/controls",
     "model_module_version": "1.5.0",
     "model_name": "ProgressStyleModel",
     "state": {
      "_model_module": "@jupyter-widgets/controls",
      "_model_module_version": "1.5.0",
      "_model_name": "ProgressStyleModel",
      "_view_count": null,
      "_view_module": "@jupyter-widgets/base",
      "_view_module_version": "1.2.0",
      "_view_name": "StyleView",
      "bar_color": null,
      "description_width": ""
     }
    },
    "f3052eec462040638704d273b9128a12": {
     "model_module": "@jupyter-widgets/controls",
     "model_module_version": "1.5.0",
     "model_name": "HTMLModel",
     "state": {
      "_dom_classes": [],
      "_model_module": "@jupyter-widgets/controls",
      "_model_module_version": "1.5.0",
      "_model_name": "HTMLModel",
      "_view_count": null,
      "_view_module": "@jupyter-widgets/controls",
      "_view_module_version": "1.5.0",
      "_view_name": "HTMLView",
      "description": "",
      "description_tooltip": null,
      "layout": "IPY_MODEL_c09987f5a9b248868a3ab1e485842b58",
      "placeholder": "​",
      "style": "IPY_MODEL_15c61f93c03e46c3a625459d00aa53bf",
      "value": "Processing: 100%"
     }
    },
    "f561f4f2c34e434abf85bacbd75e6a47": {
     "model_module": "@jupyter-widgets/controls",
     "model_module_version": "1.5.0",
     "model_name": "FloatProgressModel",
     "state": {
      "_dom_classes": [],
      "_model_module": "@jupyter-widgets/controls",
      "_model_module_version": "1.5.0",
      "_model_name": "FloatProgressModel",
      "_view_count": null,
      "_view_module": "@jupyter-widgets/controls",
      "_view_module_version": "1.5.0",
      "_view_name": "ProgressView",
      "bar_style": "",
      "description": "",
      "description_tooltip": null,
      "layout": "IPY_MODEL_6638af9a425e46f999000288d4a4508b",
      "max": 65,
      "min": 0,
      "orientation": "horizontal",
      "style": "IPY_MODEL_ed2b7eb5f05148cc930d1c61208e133b",
      "value": 65
     }
    },
    "f6ce3eeb69714c73917584e4bffc7f7d": {
     "model_module": "@jupyter-widgets/controls",
     "model_module_version": "1.5.0",
     "model_name": "DescriptionStyleModel",
     "state": {
      "_model_module": "@jupyter-widgets/controls",
      "_model_module_version": "1.5.0",
      "_model_name": "DescriptionStyleModel",
      "_view_count": null,
      "_view_module": "@jupyter-widgets/base",
      "_view_module_version": "1.2.0",
      "_view_name": "StyleView",
      "description_width": ""
     }
    },
    "f78e1414c9f54ee1905a3fcb4d3e5aa9": {
     "model_module": "@jupyter-widgets/controls",
     "model_module_version": "1.5.0",
     "model_name": "HTMLModel",
     "state": {
      "_dom_classes": [],
      "_model_module": "@jupyter-widgets/controls",
      "_model_module_version": "1.5.0",
      "_model_name": "HTMLModel",
      "_view_count": null,
      "_view_module": "@jupyter-widgets/controls",
      "_view_module_version": "1.5.0",
      "_view_name": "HTMLView",
      "description": "",
      "description_tooltip": null,
      "layout": "IPY_MODEL_0110c747d5b641aba721ca7f18d1263f",
      "placeholder": "​",
      "style": "IPY_MODEL_7abf2747284c4832acb920607e3b198a",
      "value": "Export report to file: 100%"
     }
    },
    "f8a306e431ec45f28fd0f6bac6b46025": {
     "model_module": "@jupyter-widgets/controls",
     "model_module_version": "1.5.0",
     "model_name": "ProgressStyleModel",
     "state": {
      "_model_module": "@jupyter-widgets/controls",
      "_model_module_version": "1.5.0",
      "_model_name": "ProgressStyleModel",
      "_view_count": null,
      "_view_module": "@jupyter-widgets/base",
      "_view_module_version": "1.2.0",
      "_view_name": "StyleView",
      "bar_color": null,
      "description_width": ""
     }
    },
    "ff87b0cf0ab64488aa5caff4fae23196": {
     "model_module": "@jupyter-widgets/controls",
     "model_module_version": "1.5.0",
     "model_name": "HTMLModel",
     "state": {
      "_dom_classes": [],
      "_model_module": "@jupyter-widgets/controls",
      "_model_module_version": "1.5.0",
      "_model_name": "HTMLModel",
      "_view_count": null,
      "_view_module": "@jupyter-widgets/controls",
      "_view_module_version": "1.5.0",
      "_view_name": "HTMLView",
      "description": "",
      "description_tooltip": null,
      "layout": "IPY_MODEL_13e43a638f414d32a97a1d4b580c696f",
      "placeholder": "​",
      "style": "IPY_MODEL_3d709d6a12664375aff6d310de45d25e",
      "value": "Render HTML: 100%"
     }
    }
   }
  }
 },
 "nbformat": 4,
 "nbformat_minor": 5
}
